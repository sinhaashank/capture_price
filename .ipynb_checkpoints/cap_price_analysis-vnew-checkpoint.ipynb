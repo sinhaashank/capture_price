{
 "cells": [
  {
   "cell_type": "code",
   "execution_count": 161,
   "metadata": {},
   "outputs": [
    {
     "name": "stdout",
     "output_type": "stream",
     "text": [
      "The autoreload extension is already loaded. To reload it, use:\n",
      "  %reload_ext autoreload\n"
     ]
    }
   ],
   "source": [
    "import pandas as pd\n",
    "import numpy as np\n",
    "import os\n",
    "import sys\n",
    "import plotly\n",
    "import plotly.graph_objects as go\n",
    "    \n",
    "%load_ext autoreload\n",
    "%autoreload 1\n",
    "\n",
    "pd.set_option(\"display.max_columns\",201)\n",
    "pd.set_option(\"display.max_colwidth\",101)\n",
    "pd.set_option(\"display.max_rows\",500)"
   ]
  },
  {
   "cell_type": "code",
   "execution_count": 162,
   "metadata": {},
   "outputs": [
    {
     "name": "stderr",
     "output_type": "stream",
     "text": [
      "Library created, but couldn't enable sharding: no such command: 'enablesharding'. This is OK if you're not 'admin'\n"
     ]
    }
   ],
   "source": [
    "from arctic import Arctic, CHUNK_STORE\n",
    "\n",
    "conn = Arctic('10.213.120.5')\n",
    "conn.initialize_library('entsoe', lib_type=CHUNK_STORE)\n",
    "conn.list_libraries()\n",
    "lib = conn['entsoe']"
   ]
  },
  {
   "cell_type": "code",
   "execution_count": 163,
   "metadata": {},
   "outputs": [
    {
     "name": "stdout",
     "output_type": "stream",
     "text": [
      "Enter the perimeter (DE/FR/BE/ES/IT/PL) : DE\n"
     ]
    }
   ],
   "source": [
    "# Input country\n",
    "\n",
    "country = input(\"Enter the perimeter (DE/FR/BE/ES/IT/PL) : \")"
   ]
  },
  {
   "cell_type": "code",
   "execution_count": 164,
   "metadata": {},
   "outputs": [],
   "source": [
    "# function to change timezone from UTC to local time\n",
    "\n",
    "def changing_timezone(x):\n",
    "    ts = x.index.tz_localize('utc').tz_convert('Europe/Brussels')\n",
    "    y = x.set_index(ts)\n",
    "    return y.tz_localize(None)"
   ]
  },
  {
   "cell_type": "code",
   "execution_count": 165,
   "metadata": {},
   "outputs": [],
   "source": [
    "# define dates\n",
    "\n",
    "from datetime import datetime\n",
    "from datetime import timedelta\n",
    "from datetime import date\n",
    "\n",
    "ref_date = datetime(year=2016, month=1, day=1).date()\n",
    "start_date = ref_date + timedelta(days = - 1)\n",
    "\n",
    "end_date = date.today().replace(day=1)"
   ]
  },
  {
   "cell_type": "code",
   "execution_count": 166,
   "metadata": {},
   "outputs": [],
   "source": [
    "# Read Spot price\n",
    "\n",
    "var = 'DayAheadPrices'\n",
    "prefix = var + '_' + country \n",
    "\n",
    "df_DA_price = lib.read(prefix, chunk_range=pd.date_range(start_date, end_date))\n",
    "\n",
    "# changing timezones \n",
    "df_DA_price = changing_timezone(df_DA_price)"
   ]
  },
  {
   "cell_type": "code",
   "execution_count": 167,
   "metadata": {},
   "outputs": [],
   "source": [
    "# Read installed capacity data\n",
    "\n",
    "var = 'ActualTotalLoad'\n",
    "prefix = var + '_' + country \n",
    "\n",
    "df_demand = lib.read(prefix, chunk_range=pd.date_range(start_date, end_date))\n",
    "\n",
    "# convert 15 min data to hourly data\n",
    "df_demand = df_demand.resample('H').mean()\n",
    "\n",
    "# changing timezones \n",
    "df_demand = changing_timezone(df_demand)"
   ]
  },
  {
   "cell_type": "code",
   "execution_count": 168,
   "metadata": {},
   "outputs": [],
   "source": [
    "# Read power generation data\n",
    "\n",
    "var = 'AggregatedGenerationPerType'\n",
    "prefix = var + '_' + country \n",
    "\n",
    "df_gen = lib.read(prefix,chunk_range=pd.date_range(start_date, end_date))\n",
    "\n",
    "# convert 15 min data to hourly data\n",
    "df_gen = df_gen.resample('H').mean()\n",
    "\n",
    "# changing timezones \n",
    "df_gen = changing_timezone(df_gen)"
   ]
  },
  {
   "cell_type": "code",
   "execution_count": 169,
   "metadata": {},
   "outputs": [],
   "source": [
    "var = 'ActualGenerationOutput'\n",
    "res_tech = ['Solar','Wind Onshore', 'Wind Offshore']\n",
    "\n",
    "df_RES_gen = pd.DataFrame()\n",
    "prefix = var + ' ' + country \n",
    "for j in res_tech:\n",
    "    try:\n",
    "        df_RES_gen = pd.concat([df_RES_gen,df_gen[prefix+' '+j]],axis=1)\n",
    "    except KeyError:\n",
    "        pass \n",
    "    \n",
    "df_RES_gen.index = pd.to_datetime(df_RES_gen.index)"
   ]
  },
  {
   "cell_type": "code",
   "execution_count": 170,
   "metadata": {},
   "outputs": [],
   "source": [
    "df_DA_price =df_DA_price[~df_DA_price.index.duplicated()]\n",
    "df_RES_gen =df_RES_gen[~df_RES_gen.index.duplicated()]\n",
    "df_demand =df_demand[~df_demand.index.duplicated()]"
   ]
  },
  {
   "cell_type": "code",
   "execution_count": 171,
   "metadata": {},
   "outputs": [],
   "source": [
    "# merging data to a single dataframe\n",
    "\n",
    "var = [df_DA_price,df_demand,df_RES_gen]     \n",
    "df_merge = pd.DataFrame(columns=[])\n",
    "\n",
    "for j in var:\n",
    "    df_merge = pd.merge(df_merge, j,how='outer',right_index=True, left_index=True)\n",
    "\n",
    "for i in res_tech:\n",
    "    try:\n",
    "        df_merge['t_cap'+' '+i] = df_merge['DayAheadPrices_'+country]*df_merge[prefix+' '+i]\n",
    "    except KeyError:\n",
    "        pass"
   ]
  },
  {
   "cell_type": "code",
   "execution_count": 172,
   "metadata": {},
   "outputs": [],
   "source": [
    "df_data= df_merge.iloc[(df_merge.index.year >=2016)&(df_merge.index.date<end_date)]"
   ]
  },
  {
   "cell_type": "code",
   "execution_count": 173,
   "metadata": {},
   "outputs": [
    {
     "name": "stderr",
     "output_type": "stream",
     "text": [
      "<ipython-input-173-f09748dae867>:2: SettingWithCopyWarning:\n",
      "\n",
      "\n",
      "A value is trying to be set on a copy of a slice from a DataFrame.\n",
      "Try using .loc[row_indexer,col_indexer] = value instead\n",
      "\n",
      "See the caveats in the documentation: https://pandas.pydata.org/pandas-docs/stable/user_guide/indexing.html#returning-a-view-versus-a-copy\n",
      "\n",
      "<ipython-input-173-f09748dae867>:4: SettingWithCopyWarning:\n",
      "\n",
      "\n",
      "A value is trying to be set on a copy of a slice from a DataFrame.\n",
      "Try using .loc[row_indexer,col_indexer] = value instead\n",
      "\n",
      "See the caveats in the documentation: https://pandas.pydata.org/pandas-docs/stable/user_guide/indexing.html#returning-a-view-versus-a-copy\n",
      "\n",
      "<ipython-input-173-f09748dae867>:6: SettingWithCopyWarning:\n",
      "\n",
      "\n",
      "A value is trying to be set on a copy of a slice from a DataFrame.\n",
      "Try using .loc[row_indexer,col_indexer] = value instead\n",
      "\n",
      "See the caveats in the documentation: https://pandas.pydata.org/pandas-docs/stable/user_guide/indexing.html#returning-a-view-versus-a-copy\n",
      "\n",
      "<ipython-input-173-f09748dae867>:13: SettingWithCopyWarning:\n",
      "\n",
      "\n",
      "A value is trying to be set on a copy of a slice from a DataFrame.\n",
      "Try using .loc[row_indexer,col_indexer] = value instead\n",
      "\n",
      "See the caveats in the documentation: https://pandas.pydata.org/pandas-docs/stable/user_guide/indexing.html#returning-a-view-versus-a-copy\n",
      "\n"
     ]
    }
   ],
   "source": [
    "try: \n",
    "    df_data['Residual_Load'] = df_data['ActualTotalLoad' + '_'+ country] - df_data[prefix + ' ' + 'Solar'] \n",
    "    - df_data[prefix + ' ' + 'Wind Onshore'] - df_data[prefix + ' ' + 'Wind Offshore']\n",
    "    df_data['RES_penetration'] =((df_data[prefix + ' ' + 'Solar'] + df_data[prefix + ' ' + 'Wind Onshore'] +\n",
    "                                df_data[prefix + ' ' + 'Wind Offshore'])/df_data['ActualTotalLoad'+'_'+country])*100\n",
    "    df_data['Wind_penetration'] =((df_data[prefix + ' ' + 'Wind Onshore'] + df_data[prefix + ' ' + 'Wind Offshore'])/df_data['ActualTotalLoad'+'_'+country])*100\n",
    "except KeyError:\n",
    "    df_data['Residual_Load'] = df_data['ActualTotalLoad' + '_'+ country] - df_data[prefix + ' ' + 'Solar'] \n",
    "    - df_merge[prefix + ' ' + 'Wind Onshore']\n",
    "    df_data['RES_penetration'] =((df_data[prefix + ' ' + 'Solar'] + df_data[prefix + ' ' + 'Wind Onshore'])/df_data['ActualTotalLoad'+'_'+country])*100\n",
    "    df_data['Wind_penetration'] =(df_data[prefix + ' ' + 'Wind Onshore']/df_data['ActualTotalLoad'+'_'+country])*100\n",
    "\n",
    "df_data['Solar_penetration'] =(df_data[prefix + ' ' + 'Solar']/df_data['ActualTotalLoad'+'_'+country])*100"
   ]
  },
  {
   "cell_type": "code",
   "execution_count": 174,
   "metadata": {},
   "outputs": [],
   "source": [
    "import calendar\n",
    "\n",
    "df_d = df_data.groupby(df_data.index.date).mean()\n",
    "\n",
    "df_m = df_data.groupby([(df_data.index.year),(df_data.index.month)]).mean()\n",
    "\n",
    "df_y = df_data.groupby(df_data.index.year).mean()\n",
    "\n",
    "for j in res_tech:\n",
    "    try:\n",
    "        df_d['cap_price' +'_'+j] = df_d['t_cap' +' '+ j]/df_d[prefix + ' ' + j]\n",
    "        df_m['cap_price' +'_'+j] = df_m['t_cap' +' '+ j]/df_m[prefix + ' ' + j]\n",
    "        df_y['cap_price' +'_'+j] = df_y['t_cap' +' '+ j]/df_y[prefix + ' ' + j]\n",
    "    except KeyError:\n",
    "        pass\n",
    "    \n",
    "df_d['quarter'] = 'Q'+pd.to_datetime(df_d.index).quarter.astype(str)\n",
    "df_m['quarter'] = 'Q'+pd.to_datetime(df_m.index.get_level_values(1), format='%m').quarter.astype(str)\n",
    "\n",
    "#Use calendar library for abbreviations and order\n",
    "dd=dict((enumerate(calendar.month_abbr)))\n",
    "\n",
    "#rename level zero of multiindex\n",
    "\n",
    "df_m = df_m.rename(index=dd,level=1)\n",
    "\n",
    "#Create calendar month data type with order for sorting\n",
    "cal_dtype = pd.CategoricalDtype(list(calendar.month_abbr), ordered=True)\n",
    "\n",
    "#Change the dtype of the level zero index\n",
    "df_m.index = df_m.index.set_levels(df_m.index.levels[1].astype(cal_dtype), level=1)"
   ]
  },
  {
   "cell_type": "code",
   "execution_count": 175,
   "metadata": {},
   "outputs": [],
   "source": [
    "for i in res_tech:\n",
    "    df_m['cap_ratio_'+i] = (df_m['cap_price_'+i]/df_m['DayAheadPrices_'+country])\n",
    "    df_d['cap_ratio_'+i] = (df_d['cap_price_'+i]/df_d['DayAheadPrices_'+country])\n",
    "    df_y['cap_ratio_'+i] = (df_y['cap_price_'+i]/df_y['DayAheadPrices_'+country])"
   ]
  },
  {
   "cell_type": "code",
   "execution_count": 176,
   "metadata": {},
   "outputs": [],
   "source": [
    "pickle_dir = 'hist_data_pickle/'\n",
    "\n",
    "df_d.to_pickle(os.path.join(pickle_dir,'cap_price_daily'+country+'.p'))\n",
    "df_m.to_pickle(os.path.join(pickle_dir,'cap_price_monthly'+country+'.p'))\n",
    "df_y.to_pickle(os.path.join(pickle_dir,'cap_price_yearly'+country+'.p'))"
   ]
  },
  {
   "cell_type": "code",
   "execution_count": 177,
   "metadata": {},
   "outputs": [],
   "source": [
    "csv_dir = 'hist_data_csv/'\n",
    "\n",
    "df_d.to_csv(os.path.join(csv_dir,'cap_price_daily ' + country+ '.csv'))\n",
    "df_m.to_csv(os.path.join(csv_dir,'cap_price_monthly ' + country+ '.csv'))\n",
    "df_y.to_csv(os.path.join(csv_dir,'cap_price_yearly ' + country+ '.csv'))"
   ]
  },
  {
   "cell_type": "code",
   "execution_count": 180,
   "metadata": {},
   "outputs": [
    {
     "data": {
      "text/plain": [
       "'plots/DE Solar.html'"
      ]
     },
     "execution_count": 180,
     "metadata": {},
     "output_type": "execute_result"
    }
   ],
   "source": [
    "import plotly.express as px\n",
    "\n",
    "xx = 'ActualGenerationOutput ' + country+' Wind Onshore'\n",
    "fig = px.scatter(df_m, x=\"Solar_penetration\", y=\"cap_ratio_Solar\", color=\"quarter\",\n",
    "                 title=\"Capture Price Analysis \"+country,\n",
    "                 size=xx, \n",
    "                 hover_data={'quarter':False,\n",
    "                        'Solar_penetration':False,\n",
    "                        'cap_ratio_Solar':False,\n",
    "                         xx:':.0f'\n",
    "                       })\n",
    "\n",
    "fig.update_yaxes(title='Solar Capture Price/Daily Baseload')\n",
    "fig.update_xaxes(title='Solar Penetration (%)')\n",
    "\n",
    "outdir = 'plots/'\n",
    "outfile = country+' Solar'+'.html'\n",
    "plotly.offline.plot(fig, filename = os.path.join(outdir, outfile))\n",
    "\n",
    "#fig.show()"
   ]
  },
  {
   "cell_type": "code",
   "execution_count": 181,
   "metadata": {},
   "outputs": [
    {
     "data": {
      "application/vnd.plotly.v1+json": {
       "config": {
        "plotlyServerURL": "https://plot.ly"
       },
       "data": [
        {
         "hovertemplate": "quarter=Q1<br>Solar_penetration=%{x}<br>cap_ratio_Solar=%{y}<extra></extra>",
         "legendgroup": "Q1",
         "marker": {
          "color": "#636efa",
          "symbol": "circle"
         },
         "mode": "markers",
         "name": "Q1",
         "orientation": "v",
         "showlegend": true,
         "type": "scatter",
         "x": [
          1.3280769268227672,
          2.751128721423276,
          5.090038777779573,
          1.606994911740654,
          3.286645688098602,
          6.798073223833251,
          1.4502672640388334,
          3.94847196926935,
          5.614970940550293,
          1.4789481160729216,
          5.041126739452462,
          6.59495890277608,
          2.2452021409034457,
          3.5789190345460344,
          9.049816508325678,
          1.2666717531415488,
          4.852027687780683
         ],
         "xaxis": "x",
         "y": [
          1.1104875477173235,
          1.0942557581474912,
          0.9513225671538468,
          1.088052687208579,
          1.046662064739373,
          0.9704823508815162,
          1.1679312461065907,
          1.007121063748982,
          0.9905826358224321,
          1.1973416063897182,
          0.9838768693022706,
          1.0067843381104644,
          1.0932259092681906,
          1.0593369903867236,
          0.7213742210708038,
          1.0500849319469336,
          0.9233298347290378
         ],
         "yaxis": "y"
        },
        {
         "hovertemplate": "<b>OLS trendline</b><br>cap_ratio_Solar = -0.0414044 * Solar_penetration + 1.18789<br>R<sup>2</sup>=0.767514<br><br>quarter=Q1<br>Solar_penetration=%{x}<br>cap_ratio_Solar=%{y} <b>(trend)</b><extra></extra>",
         "legendgroup": "Q1",
         "marker": {
          "color": "#636efa",
          "symbol": "circle"
         },
         "mode": "lines",
         "name": "Q1",
         "showlegend": false,
         "type": "scatter",
         "x": [
          1.2666717531415488,
          1.3280769268227672,
          1.4502672640388334,
          1.4789481160729216,
          1.606994911740654,
          2.2452021409034457,
          2.751128721423276,
          3.286645688098602,
          3.5789190345460344,
          3.94847196926935,
          4.852027687780683,
          5.041126739452462,
          5.090038777779573,
          5.614970940550293,
          6.59495890277608,
          6.798073223833251,
          9.049816508325678
         ],
         "xaxis": "x",
         "y": [
          1.1354489030608241,
          1.1329064616072335,
          1.1278472498186778,
          1.12665973771238,
          1.1213580430539598,
          1.094933485999072,
          1.073985923543429,
          1.0518131903101566,
          1.0397118016609643,
          1.0244107017013044,
          0.9869995622703179,
          0.9791700384862,
          0.9771448672120653,
          0.9554103909303147,
          0.9148346239417321,
          0.9064248070042449,
          0.8131928344174022
         ],
         "yaxis": "y"
        },
        {
         "hovertemplate": "quarter=Q2<br>Solar_penetration=%{x}<br>cap_ratio_Solar=%{y}<extra></extra>",
         "legendgroup": "Q2",
         "marker": {
          "color": "#EF553B",
          "symbol": "circle"
         },
         "mode": "markers",
         "name": "Q2",
         "orientation": "v",
         "showlegend": true,
         "type": "scatter",
         "x": [
          8.457950534510783,
          10.925289639596649,
          10.886404752940988,
          9.034187903382477,
          11.5141675134023,
          12.418047862935664,
          11.184974820930197,
          13.544624395172203,
          12.062007702338143,
          12.227965840314532,
          11.569193535953213,
          15.518376384079367,
          15.96351622961621,
          15.28407453397626,
          14.15638932669564
         ],
         "xaxis": "x",
         "y": [
          0.968288971635944,
          0.8374012769738132,
          1.0145225841099796,
          0.8742252864490703,
          0.979549883193904,
          0.9806765529931238,
          0.9215679533600053,
          0.9502300856768303,
          1.0022104019351734,
          0.8594092859228983,
          0.9334001023912005,
          0.8951215470227413,
          0.5248697231999059,
          0.8033981343935142,
          0.9445502023587877
         ],
         "yaxis": "y"
        },
        {
         "hovertemplate": "<b>OLS trendline</b><br>cap_ratio_Solar = -0.0274939 * Solar_penetration + 1.23792<br>R<sup>2</sup>=0.258076<br><br>quarter=Q2<br>Solar_penetration=%{x}<br>cap_ratio_Solar=%{y} <b>(trend)</b><extra></extra>",
         "legendgroup": "Q2",
         "marker": {
          "color": "#EF553B",
          "symbol": "circle"
         },
         "mode": "lines",
         "name": "Q2",
         "showlegend": false,
         "type": "scatter",
         "x": [
          8.457950534510783,
          9.034187903382477,
          10.886404752940988,
          10.925289639596649,
          11.184974820930197,
          11.5141675134023,
          11.569193535953213,
          12.062007702338143,
          12.227965840314532,
          12.418047862935664,
          13.544624395172203,
          14.15638932669564,
          15.28407453397626,
          15.518376384079367,
          15.96351622961621
         ],
         "xaxis": "x",
         "y": [
          1.0053805990284093,
          0.9895376118928003,
          0.9386130288908818,
          0.9375439334237456,
          0.9304041864905825,
          0.9213534100680396,
          0.9198405325378913,
          0.9062911709031709,
          0.9017283417861393,
          0.8965022540629606,
          0.8655283213198437,
          0.8487085444991902,
          0.8177041300042645,
          0.8112622687200834,
          0.7990236579888911
         ],
         "yaxis": "y"
        },
        {
         "hovertemplate": "quarter=Q3<br>Solar_penetration=%{x}<br>cap_ratio_Solar=%{y}<extra></extra>",
         "legendgroup": "Q3",
         "marker": {
          "color": "#00cc96",
          "symbol": "circle"
         },
         "mode": "markers",
         "name": "Q3",
         "orientation": "v",
         "showlegend": true,
         "type": "scatter",
         "x": [
          10.997973192359444,
          10.586069065376586,
          8.73179913264151,
          10.917532025767901,
          10.322070698078521,
          7.05155826507997,
          13.674391760018075,
          11.485327420861832,
          9.230836380559184,
          12.561357072051461,
          12.081003867035404,
          9.075864449251743,
          14.723017408140551,
          12.686495577996208,
          10.795960486680205
         ],
         "xaxis": "x",
         "y": [
          0.9821713708308216,
          0.9624733679856595,
          0.9769437252566331,
          0.9783763371622445,
          0.9792003550028615,
          1.035114728634651,
          0.9914404082870134,
          0.9958377453960237,
          0.9503843074159711,
          0.9871199767901114,
          0.9168418360110134,
          0.9357296006022637,
          0.8732962640672934,
          0.952429570119386,
          0.9110220545595447
         ],
         "yaxis": "y"
        },
        {
         "hovertemplate": "<b>OLS trendline</b><br>cap_ratio_Solar = -0.00920833 * Solar_penetration + 1.06314<br>R<sup>2</sup>=0.209849<br><br>quarter=Q3<br>Solar_penetration=%{x}<br>cap_ratio_Solar=%{y} <b>(trend)</b><extra></extra>",
         "legendgroup": "Q3",
         "marker": {
          "color": "#00cc96",
          "symbol": "circle"
         },
         "mode": "lines",
         "name": "Q3",
         "showlegend": false,
         "type": "scatter",
         "x": [
          7.05155826507997,
          8.73179913264151,
          9.075864449251743,
          9.230836380559184,
          10.322070698078521,
          10.586069065376586,
          10.795960486680205,
          10.917532025767901,
          10.997973192359444,
          11.485327420861832,
          12.081003867035404,
          12.561357072051461,
          12.686495577996208,
          13.674391760018075,
          14.723017408140551
         ],
         "xaxis": "x",
         "y": [
          0.9982023163347047,
          0.982730107553359,
          0.9795618413149958,
          0.9781348089634277,
          0.9680863656027261,
          0.9656553820838585,
          0.9637226330628589,
          0.9626031624732856,
          0.9618624338383931,
          0.9573747163215566,
          0.9518895323105862,
          0.9474662825133218,
          0.9463139661234862,
          0.937217094194214,
          0.9275610054307197
         ],
         "yaxis": "y"
        },
        {
         "hovertemplate": "quarter=Q4<br>Solar_penetration=%{x}<br>cap_ratio_Solar=%{y}<extra></extra>",
         "legendgroup": "Q4",
         "marker": {
          "color": "#ab63fa",
          "symbol": "circle"
         },
         "mode": "markers",
         "name": "Q4",
         "orientation": "v",
         "showlegend": true,
         "type": "scatter",
         "x": [
          3.776757234777234,
          2.0919686589928106,
          1.667994780339891,
          4.620682553790073,
          1.71866948234554,
          1.0253403654885864,
          5.939770814414883,
          2.5100974232219593,
          1.107944973907324,
          5.262692675179237,
          2.2771847665205756,
          2.043872841577194,
          4.657611940129813,
          3.275614065047548,
          1.4854188755142077
         ],
         "xaxis": "x",
         "y": [
          1.0132540269989432,
          1.0579183159854042,
          1.1641270363947298,
          1.0266628792822479,
          1.0647654529913473,
          1.0708747485226788,
          1.005844595355997,
          1.0544086410588216,
          1.1667474571668304,
          1.0226850528309048,
          1.069335261803152,
          1.1564119631909702,
          0.96022538675342,
          1.03080181386263,
          1.104393348966888
         ],
         "yaxis": "y"
        },
        {
         "hovertemplate": "<b>OLS trendline</b><br>cap_ratio_Solar = -0.0291437 * Solar_penetration + 1.14901<br>R<sup>2</sup>=0.578660<br><br>quarter=Q4<br>Solar_penetration=%{x}<br>cap_ratio_Solar=%{y} <b>(trend)</b><extra></extra>",
         "legendgroup": "Q4",
         "marker": {
          "color": "#ab63fa",
          "symbol": "circle"
         },
         "mode": "lines",
         "name": "Q4",
         "showlegend": false,
         "type": "scatter",
         "x": [
          1.0253403654885864,
          1.107944973907324,
          1.4854188755142077,
          1.667994780339891,
          1.71866948234554,
          2.043872841577194,
          2.0919686589928106,
          2.2771847665205756,
          2.5100974232219593,
          3.275614065047548,
          3.776757234777234,
          4.620682553790073,
          4.657611940129813,
          5.262692675179237,
          5.939770814414883
         ],
         "xaxis": "x",
         "y": [
          1.1191237296646495,
          1.1167163237178044,
          1.1057153283386998,
          1.100394386475506,
          1.0989175369231832,
          1.0894398998284138,
          1.088038208577996,
          1.0826403213747353,
          1.075852379084687,
          1.0535423730061173,
          1.0389371945527268,
          1.0143420675909738,
          1.013265807731028,
          0.9956315015129619,
          0.9758989227854893
         ],
         "yaxis": "y"
        }
       ],
       "layout": {
        "legend": {
         "title": {
          "text": "quarter"
         },
         "tracegroupgap": 0
        },
        "margin": {
         "t": 60
        },
        "template": {
         "data": {
          "bar": [
           {
            "error_x": {
             "color": "#2a3f5f"
            },
            "error_y": {
             "color": "#2a3f5f"
            },
            "marker": {
             "line": {
              "color": "#E5ECF6",
              "width": 0.5
             }
            },
            "type": "bar"
           }
          ],
          "barpolar": [
           {
            "marker": {
             "line": {
              "color": "#E5ECF6",
              "width": 0.5
             }
            },
            "type": "barpolar"
           }
          ],
          "carpet": [
           {
            "aaxis": {
             "endlinecolor": "#2a3f5f",
             "gridcolor": "white",
             "linecolor": "white",
             "minorgridcolor": "white",
             "startlinecolor": "#2a3f5f"
            },
            "baxis": {
             "endlinecolor": "#2a3f5f",
             "gridcolor": "white",
             "linecolor": "white",
             "minorgridcolor": "white",
             "startlinecolor": "#2a3f5f"
            },
            "type": "carpet"
           }
          ],
          "choropleth": [
           {
            "colorbar": {
             "outlinewidth": 0,
             "ticks": ""
            },
            "type": "choropleth"
           }
          ],
          "contour": [
           {
            "colorbar": {
             "outlinewidth": 0,
             "ticks": ""
            },
            "colorscale": [
             [
              0,
              "#0d0887"
             ],
             [
              0.1111111111111111,
              "#46039f"
             ],
             [
              0.2222222222222222,
              "#7201a8"
             ],
             [
              0.3333333333333333,
              "#9c179e"
             ],
             [
              0.4444444444444444,
              "#bd3786"
             ],
             [
              0.5555555555555556,
              "#d8576b"
             ],
             [
              0.6666666666666666,
              "#ed7953"
             ],
             [
              0.7777777777777778,
              "#fb9f3a"
             ],
             [
              0.8888888888888888,
              "#fdca26"
             ],
             [
              1,
              "#f0f921"
             ]
            ],
            "type": "contour"
           }
          ],
          "contourcarpet": [
           {
            "colorbar": {
             "outlinewidth": 0,
             "ticks": ""
            },
            "type": "contourcarpet"
           }
          ],
          "heatmap": [
           {
            "colorbar": {
             "outlinewidth": 0,
             "ticks": ""
            },
            "colorscale": [
             [
              0,
              "#0d0887"
             ],
             [
              0.1111111111111111,
              "#46039f"
             ],
             [
              0.2222222222222222,
              "#7201a8"
             ],
             [
              0.3333333333333333,
              "#9c179e"
             ],
             [
              0.4444444444444444,
              "#bd3786"
             ],
             [
              0.5555555555555556,
              "#d8576b"
             ],
             [
              0.6666666666666666,
              "#ed7953"
             ],
             [
              0.7777777777777778,
              "#fb9f3a"
             ],
             [
              0.8888888888888888,
              "#fdca26"
             ],
             [
              1,
              "#f0f921"
             ]
            ],
            "type": "heatmap"
           }
          ],
          "heatmapgl": [
           {
            "colorbar": {
             "outlinewidth": 0,
             "ticks": ""
            },
            "colorscale": [
             [
              0,
              "#0d0887"
             ],
             [
              0.1111111111111111,
              "#46039f"
             ],
             [
              0.2222222222222222,
              "#7201a8"
             ],
             [
              0.3333333333333333,
              "#9c179e"
             ],
             [
              0.4444444444444444,
              "#bd3786"
             ],
             [
              0.5555555555555556,
              "#d8576b"
             ],
             [
              0.6666666666666666,
              "#ed7953"
             ],
             [
              0.7777777777777778,
              "#fb9f3a"
             ],
             [
              0.8888888888888888,
              "#fdca26"
             ],
             [
              1,
              "#f0f921"
             ]
            ],
            "type": "heatmapgl"
           }
          ],
          "histogram": [
           {
            "marker": {
             "colorbar": {
              "outlinewidth": 0,
              "ticks": ""
             }
            },
            "type": "histogram"
           }
          ],
          "histogram2d": [
           {
            "colorbar": {
             "outlinewidth": 0,
             "ticks": ""
            },
            "colorscale": [
             [
              0,
              "#0d0887"
             ],
             [
              0.1111111111111111,
              "#46039f"
             ],
             [
              0.2222222222222222,
              "#7201a8"
             ],
             [
              0.3333333333333333,
              "#9c179e"
             ],
             [
              0.4444444444444444,
              "#bd3786"
             ],
             [
              0.5555555555555556,
              "#d8576b"
             ],
             [
              0.6666666666666666,
              "#ed7953"
             ],
             [
              0.7777777777777778,
              "#fb9f3a"
             ],
             [
              0.8888888888888888,
              "#fdca26"
             ],
             [
              1,
              "#f0f921"
             ]
            ],
            "type": "histogram2d"
           }
          ],
          "histogram2dcontour": [
           {
            "colorbar": {
             "outlinewidth": 0,
             "ticks": ""
            },
            "colorscale": [
             [
              0,
              "#0d0887"
             ],
             [
              0.1111111111111111,
              "#46039f"
             ],
             [
              0.2222222222222222,
              "#7201a8"
             ],
             [
              0.3333333333333333,
              "#9c179e"
             ],
             [
              0.4444444444444444,
              "#bd3786"
             ],
             [
              0.5555555555555556,
              "#d8576b"
             ],
             [
              0.6666666666666666,
              "#ed7953"
             ],
             [
              0.7777777777777778,
              "#fb9f3a"
             ],
             [
              0.8888888888888888,
              "#fdca26"
             ],
             [
              1,
              "#f0f921"
             ]
            ],
            "type": "histogram2dcontour"
           }
          ],
          "mesh3d": [
           {
            "colorbar": {
             "outlinewidth": 0,
             "ticks": ""
            },
            "type": "mesh3d"
           }
          ],
          "parcoords": [
           {
            "line": {
             "colorbar": {
              "outlinewidth": 0,
              "ticks": ""
             }
            },
            "type": "parcoords"
           }
          ],
          "pie": [
           {
            "automargin": true,
            "type": "pie"
           }
          ],
          "scatter": [
           {
            "marker": {
             "colorbar": {
              "outlinewidth": 0,
              "ticks": ""
             }
            },
            "type": "scatter"
           }
          ],
          "scatter3d": [
           {
            "line": {
             "colorbar": {
              "outlinewidth": 0,
              "ticks": ""
             }
            },
            "marker": {
             "colorbar": {
              "outlinewidth": 0,
              "ticks": ""
             }
            },
            "type": "scatter3d"
           }
          ],
          "scattercarpet": [
           {
            "marker": {
             "colorbar": {
              "outlinewidth": 0,
              "ticks": ""
             }
            },
            "type": "scattercarpet"
           }
          ],
          "scattergeo": [
           {
            "marker": {
             "colorbar": {
              "outlinewidth": 0,
              "ticks": ""
             }
            },
            "type": "scattergeo"
           }
          ],
          "scattergl": [
           {
            "marker": {
             "colorbar": {
              "outlinewidth": 0,
              "ticks": ""
             }
            },
            "type": "scattergl"
           }
          ],
          "scattermapbox": [
           {
            "marker": {
             "colorbar": {
              "outlinewidth": 0,
              "ticks": ""
             }
            },
            "type": "scattermapbox"
           }
          ],
          "scatterpolar": [
           {
            "marker": {
             "colorbar": {
              "outlinewidth": 0,
              "ticks": ""
             }
            },
            "type": "scatterpolar"
           }
          ],
          "scatterpolargl": [
           {
            "marker": {
             "colorbar": {
              "outlinewidth": 0,
              "ticks": ""
             }
            },
            "type": "scatterpolargl"
           }
          ],
          "scatterternary": [
           {
            "marker": {
             "colorbar": {
              "outlinewidth": 0,
              "ticks": ""
             }
            },
            "type": "scatterternary"
           }
          ],
          "surface": [
           {
            "colorbar": {
             "outlinewidth": 0,
             "ticks": ""
            },
            "colorscale": [
             [
              0,
              "#0d0887"
             ],
             [
              0.1111111111111111,
              "#46039f"
             ],
             [
              0.2222222222222222,
              "#7201a8"
             ],
             [
              0.3333333333333333,
              "#9c179e"
             ],
             [
              0.4444444444444444,
              "#bd3786"
             ],
             [
              0.5555555555555556,
              "#d8576b"
             ],
             [
              0.6666666666666666,
              "#ed7953"
             ],
             [
              0.7777777777777778,
              "#fb9f3a"
             ],
             [
              0.8888888888888888,
              "#fdca26"
             ],
             [
              1,
              "#f0f921"
             ]
            ],
            "type": "surface"
           }
          ],
          "table": [
           {
            "cells": {
             "fill": {
              "color": "#EBF0F8"
             },
             "line": {
              "color": "white"
             }
            },
            "header": {
             "fill": {
              "color": "#C8D4E3"
             },
             "line": {
              "color": "white"
             }
            },
            "type": "table"
           }
          ]
         },
         "layout": {
          "annotationdefaults": {
           "arrowcolor": "#2a3f5f",
           "arrowhead": 0,
           "arrowwidth": 1
          },
          "coloraxis": {
           "colorbar": {
            "outlinewidth": 0,
            "ticks": ""
           }
          },
          "colorscale": {
           "diverging": [
            [
             0,
             "#8e0152"
            ],
            [
             0.1,
             "#c51b7d"
            ],
            [
             0.2,
             "#de77ae"
            ],
            [
             0.3,
             "#f1b6da"
            ],
            [
             0.4,
             "#fde0ef"
            ],
            [
             0.5,
             "#f7f7f7"
            ],
            [
             0.6,
             "#e6f5d0"
            ],
            [
             0.7,
             "#b8e186"
            ],
            [
             0.8,
             "#7fbc41"
            ],
            [
             0.9,
             "#4d9221"
            ],
            [
             1,
             "#276419"
            ]
           ],
           "sequential": [
            [
             0,
             "#0d0887"
            ],
            [
             0.1111111111111111,
             "#46039f"
            ],
            [
             0.2222222222222222,
             "#7201a8"
            ],
            [
             0.3333333333333333,
             "#9c179e"
            ],
            [
             0.4444444444444444,
             "#bd3786"
            ],
            [
             0.5555555555555556,
             "#d8576b"
            ],
            [
             0.6666666666666666,
             "#ed7953"
            ],
            [
             0.7777777777777778,
             "#fb9f3a"
            ],
            [
             0.8888888888888888,
             "#fdca26"
            ],
            [
             1,
             "#f0f921"
            ]
           ],
           "sequentialminus": [
            [
             0,
             "#0d0887"
            ],
            [
             0.1111111111111111,
             "#46039f"
            ],
            [
             0.2222222222222222,
             "#7201a8"
            ],
            [
             0.3333333333333333,
             "#9c179e"
            ],
            [
             0.4444444444444444,
             "#bd3786"
            ],
            [
             0.5555555555555556,
             "#d8576b"
            ],
            [
             0.6666666666666666,
             "#ed7953"
            ],
            [
             0.7777777777777778,
             "#fb9f3a"
            ],
            [
             0.8888888888888888,
             "#fdca26"
            ],
            [
             1,
             "#f0f921"
            ]
           ]
          },
          "colorway": [
           "#636efa",
           "#EF553B",
           "#00cc96",
           "#ab63fa",
           "#FFA15A",
           "#19d3f3",
           "#FF6692",
           "#B6E880",
           "#FF97FF",
           "#FECB52"
          ],
          "font": {
           "color": "#2a3f5f"
          },
          "geo": {
           "bgcolor": "white",
           "lakecolor": "white",
           "landcolor": "#E5ECF6",
           "showlakes": true,
           "showland": true,
           "subunitcolor": "white"
          },
          "hoverlabel": {
           "align": "left"
          },
          "hovermode": "closest",
          "mapbox": {
           "style": "light"
          },
          "paper_bgcolor": "white",
          "plot_bgcolor": "#E5ECF6",
          "polar": {
           "angularaxis": {
            "gridcolor": "white",
            "linecolor": "white",
            "ticks": ""
           },
           "bgcolor": "#E5ECF6",
           "radialaxis": {
            "gridcolor": "white",
            "linecolor": "white",
            "ticks": ""
           }
          },
          "scene": {
           "xaxis": {
            "backgroundcolor": "#E5ECF6",
            "gridcolor": "white",
            "gridwidth": 2,
            "linecolor": "white",
            "showbackground": true,
            "ticks": "",
            "zerolinecolor": "white"
           },
           "yaxis": {
            "backgroundcolor": "#E5ECF6",
            "gridcolor": "white",
            "gridwidth": 2,
            "linecolor": "white",
            "showbackground": true,
            "ticks": "",
            "zerolinecolor": "white"
           },
           "zaxis": {
            "backgroundcolor": "#E5ECF6",
            "gridcolor": "white",
            "gridwidth": 2,
            "linecolor": "white",
            "showbackground": true,
            "ticks": "",
            "zerolinecolor": "white"
           }
          },
          "shapedefaults": {
           "line": {
            "color": "#2a3f5f"
           }
          },
          "ternary": {
           "aaxis": {
            "gridcolor": "white",
            "linecolor": "white",
            "ticks": ""
           },
           "baxis": {
            "gridcolor": "white",
            "linecolor": "white",
            "ticks": ""
           },
           "bgcolor": "#E5ECF6",
           "caxis": {
            "gridcolor": "white",
            "linecolor": "white",
            "ticks": ""
           }
          },
          "title": {
           "x": 0.05
          },
          "xaxis": {
           "automargin": true,
           "gridcolor": "white",
           "linecolor": "white",
           "ticks": "",
           "title": {
            "standoff": 15
           },
           "zerolinecolor": "white",
           "zerolinewidth": 2
          },
          "yaxis": {
           "automargin": true,
           "gridcolor": "white",
           "linecolor": "white",
           "ticks": "",
           "title": {
            "standoff": 15
           },
           "zerolinecolor": "white",
           "zerolinewidth": 2
          }
         }
        },
        "xaxis": {
         "anchor": "y",
         "domain": [
          0,
          1
         ],
         "title": {
          "text": "Solar_penetration"
         }
        },
        "yaxis": {
         "anchor": "x",
         "domain": [
          0,
          1
         ],
         "title": {
          "text": "cap_ratio_Solar"
         }
        }
       }
      },
      "text/html": [
       "<div>\n",
       "        \n",
       "        \n",
       "            <div id=\"86257fbe-4b91-4dfe-aa57-58130fe68693\" class=\"plotly-graph-div\" style=\"height:525px; width:100%;\"></div>\n",
       "            <script type=\"text/javascript\">\n",
       "                require([\"plotly\"], function(Plotly) {\n",
       "                    window.PLOTLYENV=window.PLOTLYENV || {};\n",
       "                    \n",
       "                if (document.getElementById(\"86257fbe-4b91-4dfe-aa57-58130fe68693\")) {\n",
       "                    Plotly.newPlot(\n",
       "                        '86257fbe-4b91-4dfe-aa57-58130fe68693',\n",
       "                        [{\"hovertemplate\": \"quarter=Q1<br>Solar_penetration=%{x}<br>cap_ratio_Solar=%{y}<extra></extra>\", \"legendgroup\": \"Q1\", \"marker\": {\"color\": \"#636efa\", \"symbol\": \"circle\"}, \"mode\": \"markers\", \"name\": \"Q1\", \"orientation\": \"v\", \"showlegend\": true, \"type\": \"scatter\", \"x\": [1.3280769268227672, 2.751128721423276, 5.090038777779573, 1.606994911740654, 3.286645688098602, 6.798073223833251, 1.4502672640388334, 3.94847196926935, 5.614970940550293, 1.4789481160729216, 5.041126739452462, 6.59495890277608, 2.2452021409034457, 3.5789190345460344, 9.049816508325678, 1.2666717531415488, 4.852027687780683], \"xaxis\": \"x\", \"y\": [1.1104875477173235, 1.0942557581474912, 0.9513225671538468, 1.088052687208579, 1.046662064739373, 0.9704823508815162, 1.1679312461065907, 1.007121063748982, 0.9905826358224321, 1.1973416063897182, 0.9838768693022706, 1.0067843381104644, 1.0932259092681906, 1.0593369903867236, 0.7213742210708038, 1.0500849319469336, 0.9233298347290378], \"yaxis\": \"y\"}, {\"hovertemplate\": \"<b>OLS trendline</b><br>cap_ratio_Solar = -0.0414044 * Solar_penetration + 1.18789<br>R<sup>2</sup>=0.767514<br><br>quarter=Q1<br>Solar_penetration=%{x}<br>cap_ratio_Solar=%{y} <b>(trend)</b><extra></extra>\", \"legendgroup\": \"Q1\", \"marker\": {\"color\": \"#636efa\", \"symbol\": \"circle\"}, \"mode\": \"lines\", \"name\": \"Q1\", \"showlegend\": false, \"type\": \"scatter\", \"x\": [1.2666717531415488, 1.3280769268227672, 1.4502672640388334, 1.4789481160729216, 1.606994911740654, 2.2452021409034457, 2.751128721423276, 3.286645688098602, 3.5789190345460344, 3.94847196926935, 4.852027687780683, 5.041126739452462, 5.090038777779573, 5.614970940550293, 6.59495890277608, 6.798073223833251, 9.049816508325678], \"xaxis\": \"x\", \"y\": [1.1354489030608241, 1.1329064616072335, 1.1278472498186778, 1.12665973771238, 1.1213580430539598, 1.094933485999072, 1.073985923543429, 1.0518131903101566, 1.0397118016609643, 1.0244107017013044, 0.9869995622703179, 0.9791700384862, 0.9771448672120653, 0.9554103909303147, 0.9148346239417321, 0.9064248070042449, 0.8131928344174022], \"yaxis\": \"y\"}, {\"hovertemplate\": \"quarter=Q2<br>Solar_penetration=%{x}<br>cap_ratio_Solar=%{y}<extra></extra>\", \"legendgroup\": \"Q2\", \"marker\": {\"color\": \"#EF553B\", \"symbol\": \"circle\"}, \"mode\": \"markers\", \"name\": \"Q2\", \"orientation\": \"v\", \"showlegend\": true, \"type\": \"scatter\", \"x\": [8.457950534510783, 10.925289639596649, 10.886404752940988, 9.034187903382477, 11.5141675134023, 12.418047862935664, 11.184974820930197, 13.544624395172203, 12.062007702338143, 12.227965840314532, 11.569193535953213, 15.518376384079367, 15.96351622961621, 15.28407453397626, 14.15638932669564], \"xaxis\": \"x\", \"y\": [0.968288971635944, 0.8374012769738132, 1.0145225841099796, 0.8742252864490703, 0.979549883193904, 0.9806765529931238, 0.9215679533600053, 0.9502300856768303, 1.0022104019351734, 0.8594092859228983, 0.9334001023912005, 0.8951215470227413, 0.5248697231999059, 0.8033981343935142, 0.9445502023587877], \"yaxis\": \"y\"}, {\"hovertemplate\": \"<b>OLS trendline</b><br>cap_ratio_Solar = -0.0274939 * Solar_penetration + 1.23792<br>R<sup>2</sup>=0.258076<br><br>quarter=Q2<br>Solar_penetration=%{x}<br>cap_ratio_Solar=%{y} <b>(trend)</b><extra></extra>\", \"legendgroup\": \"Q2\", \"marker\": {\"color\": \"#EF553B\", \"symbol\": \"circle\"}, \"mode\": \"lines\", \"name\": \"Q2\", \"showlegend\": false, \"type\": \"scatter\", \"x\": [8.457950534510783, 9.034187903382477, 10.886404752940988, 10.925289639596649, 11.184974820930197, 11.5141675134023, 11.569193535953213, 12.062007702338143, 12.227965840314532, 12.418047862935664, 13.544624395172203, 14.15638932669564, 15.28407453397626, 15.518376384079367, 15.96351622961621], \"xaxis\": \"x\", \"y\": [1.0053805990284093, 0.9895376118928003, 0.9386130288908818, 0.9375439334237456, 0.9304041864905825, 0.9213534100680396, 0.9198405325378913, 0.9062911709031709, 0.9017283417861393, 0.8965022540629606, 0.8655283213198437, 0.8487085444991902, 0.8177041300042645, 0.8112622687200834, 0.7990236579888911], \"yaxis\": \"y\"}, {\"hovertemplate\": \"quarter=Q3<br>Solar_penetration=%{x}<br>cap_ratio_Solar=%{y}<extra></extra>\", \"legendgroup\": \"Q3\", \"marker\": {\"color\": \"#00cc96\", \"symbol\": \"circle\"}, \"mode\": \"markers\", \"name\": \"Q3\", \"orientation\": \"v\", \"showlegend\": true, \"type\": \"scatter\", \"x\": [10.997973192359444, 10.586069065376586, 8.73179913264151, 10.917532025767901, 10.322070698078521, 7.05155826507997, 13.674391760018075, 11.485327420861832, 9.230836380559184, 12.561357072051461, 12.081003867035404, 9.075864449251743, 14.723017408140551, 12.686495577996208, 10.795960486680205], \"xaxis\": \"x\", \"y\": [0.9821713708308216, 0.9624733679856595, 0.9769437252566331, 0.9783763371622445, 0.9792003550028615, 1.035114728634651, 0.9914404082870134, 0.9958377453960237, 0.9503843074159711, 0.9871199767901114, 0.9168418360110134, 0.9357296006022637, 0.8732962640672934, 0.952429570119386, 0.9110220545595447], \"yaxis\": \"y\"}, {\"hovertemplate\": \"<b>OLS trendline</b><br>cap_ratio_Solar = -0.00920833 * Solar_penetration + 1.06314<br>R<sup>2</sup>=0.209849<br><br>quarter=Q3<br>Solar_penetration=%{x}<br>cap_ratio_Solar=%{y} <b>(trend)</b><extra></extra>\", \"legendgroup\": \"Q3\", \"marker\": {\"color\": \"#00cc96\", \"symbol\": \"circle\"}, \"mode\": \"lines\", \"name\": \"Q3\", \"showlegend\": false, \"type\": \"scatter\", \"x\": [7.05155826507997, 8.73179913264151, 9.075864449251743, 9.230836380559184, 10.322070698078521, 10.586069065376586, 10.795960486680205, 10.917532025767901, 10.997973192359444, 11.485327420861832, 12.081003867035404, 12.561357072051461, 12.686495577996208, 13.674391760018075, 14.723017408140551], \"xaxis\": \"x\", \"y\": [0.9982023163347047, 0.982730107553359, 0.9795618413149958, 0.9781348089634277, 0.9680863656027261, 0.9656553820838585, 0.9637226330628589, 0.9626031624732856, 0.9618624338383931, 0.9573747163215566, 0.9518895323105862, 0.9474662825133218, 0.9463139661234862, 0.937217094194214, 0.9275610054307197], \"yaxis\": \"y\"}, {\"hovertemplate\": \"quarter=Q4<br>Solar_penetration=%{x}<br>cap_ratio_Solar=%{y}<extra></extra>\", \"legendgroup\": \"Q4\", \"marker\": {\"color\": \"#ab63fa\", \"symbol\": \"circle\"}, \"mode\": \"markers\", \"name\": \"Q4\", \"orientation\": \"v\", \"showlegend\": true, \"type\": \"scatter\", \"x\": [3.776757234777234, 2.0919686589928106, 1.667994780339891, 4.620682553790073, 1.71866948234554, 1.0253403654885864, 5.939770814414883, 2.5100974232219593, 1.107944973907324, 5.262692675179237, 2.2771847665205756, 2.043872841577194, 4.657611940129813, 3.275614065047548, 1.4854188755142077], \"xaxis\": \"x\", \"y\": [1.0132540269989432, 1.0579183159854042, 1.1641270363947298, 1.0266628792822479, 1.0647654529913473, 1.0708747485226788, 1.005844595355997, 1.0544086410588216, 1.1667474571668304, 1.0226850528309048, 1.069335261803152, 1.1564119631909702, 0.96022538675342, 1.03080181386263, 1.104393348966888], \"yaxis\": \"y\"}, {\"hovertemplate\": \"<b>OLS trendline</b><br>cap_ratio_Solar = -0.0291437 * Solar_penetration + 1.14901<br>R<sup>2</sup>=0.578660<br><br>quarter=Q4<br>Solar_penetration=%{x}<br>cap_ratio_Solar=%{y} <b>(trend)</b><extra></extra>\", \"legendgroup\": \"Q4\", \"marker\": {\"color\": \"#ab63fa\", \"symbol\": \"circle\"}, \"mode\": \"lines\", \"name\": \"Q4\", \"showlegend\": false, \"type\": \"scatter\", \"x\": [1.0253403654885864, 1.107944973907324, 1.4854188755142077, 1.667994780339891, 1.71866948234554, 2.043872841577194, 2.0919686589928106, 2.2771847665205756, 2.5100974232219593, 3.275614065047548, 3.776757234777234, 4.620682553790073, 4.657611940129813, 5.262692675179237, 5.939770814414883], \"xaxis\": \"x\", \"y\": [1.1191237296646495, 1.1167163237178044, 1.1057153283386998, 1.100394386475506, 1.0989175369231832, 1.0894398998284138, 1.088038208577996, 1.0826403213747353, 1.075852379084687, 1.0535423730061173, 1.0389371945527268, 1.0143420675909738, 1.013265807731028, 0.9956315015129619, 0.9758989227854893], \"yaxis\": \"y\"}],\n",
       "                        {\"legend\": {\"title\": {\"text\": \"quarter\"}, \"tracegroupgap\": 0}, \"margin\": {\"t\": 60}, \"template\": {\"data\": {\"bar\": [{\"error_x\": {\"color\": \"#2a3f5f\"}, \"error_y\": {\"color\": \"#2a3f5f\"}, \"marker\": {\"line\": {\"color\": \"#E5ECF6\", \"width\": 0.5}}, \"type\": \"bar\"}], \"barpolar\": [{\"marker\": {\"line\": {\"color\": \"#E5ECF6\", \"width\": 0.5}}, \"type\": \"barpolar\"}], \"carpet\": [{\"aaxis\": {\"endlinecolor\": \"#2a3f5f\", \"gridcolor\": \"white\", \"linecolor\": \"white\", \"minorgridcolor\": \"white\", \"startlinecolor\": \"#2a3f5f\"}, \"baxis\": {\"endlinecolor\": \"#2a3f5f\", \"gridcolor\": \"white\", \"linecolor\": \"white\", \"minorgridcolor\": \"white\", \"startlinecolor\": \"#2a3f5f\"}, \"type\": \"carpet\"}], \"choropleth\": [{\"colorbar\": {\"outlinewidth\": 0, \"ticks\": \"\"}, \"type\": \"choropleth\"}], \"contour\": [{\"colorbar\": {\"outlinewidth\": 0, \"ticks\": \"\"}, \"colorscale\": [[0.0, \"#0d0887\"], [0.1111111111111111, \"#46039f\"], [0.2222222222222222, \"#7201a8\"], [0.3333333333333333, \"#9c179e\"], [0.4444444444444444, \"#bd3786\"], [0.5555555555555556, \"#d8576b\"], [0.6666666666666666, \"#ed7953\"], [0.7777777777777778, \"#fb9f3a\"], [0.8888888888888888, \"#fdca26\"], [1.0, \"#f0f921\"]], \"type\": \"contour\"}], \"contourcarpet\": [{\"colorbar\": {\"outlinewidth\": 0, \"ticks\": \"\"}, \"type\": \"contourcarpet\"}], \"heatmap\": [{\"colorbar\": {\"outlinewidth\": 0, \"ticks\": \"\"}, \"colorscale\": [[0.0, \"#0d0887\"], [0.1111111111111111, \"#46039f\"], [0.2222222222222222, \"#7201a8\"], [0.3333333333333333, \"#9c179e\"], [0.4444444444444444, \"#bd3786\"], [0.5555555555555556, \"#d8576b\"], [0.6666666666666666, \"#ed7953\"], [0.7777777777777778, \"#fb9f3a\"], [0.8888888888888888, \"#fdca26\"], [1.0, \"#f0f921\"]], \"type\": \"heatmap\"}], \"heatmapgl\": [{\"colorbar\": {\"outlinewidth\": 0, \"ticks\": \"\"}, \"colorscale\": [[0.0, \"#0d0887\"], [0.1111111111111111, \"#46039f\"], [0.2222222222222222, \"#7201a8\"], [0.3333333333333333, \"#9c179e\"], [0.4444444444444444, \"#bd3786\"], [0.5555555555555556, \"#d8576b\"], [0.6666666666666666, \"#ed7953\"], [0.7777777777777778, \"#fb9f3a\"], [0.8888888888888888, \"#fdca26\"], [1.0, \"#f0f921\"]], \"type\": \"heatmapgl\"}], \"histogram\": [{\"marker\": {\"colorbar\": {\"outlinewidth\": 0, \"ticks\": \"\"}}, \"type\": \"histogram\"}], \"histogram2d\": [{\"colorbar\": {\"outlinewidth\": 0, \"ticks\": \"\"}, \"colorscale\": [[0.0, \"#0d0887\"], [0.1111111111111111, \"#46039f\"], [0.2222222222222222, \"#7201a8\"], [0.3333333333333333, \"#9c179e\"], [0.4444444444444444, \"#bd3786\"], [0.5555555555555556, \"#d8576b\"], [0.6666666666666666, \"#ed7953\"], [0.7777777777777778, \"#fb9f3a\"], [0.8888888888888888, \"#fdca26\"], [1.0, \"#f0f921\"]], \"type\": \"histogram2d\"}], \"histogram2dcontour\": [{\"colorbar\": {\"outlinewidth\": 0, \"ticks\": \"\"}, \"colorscale\": [[0.0, \"#0d0887\"], [0.1111111111111111, \"#46039f\"], [0.2222222222222222, \"#7201a8\"], [0.3333333333333333, \"#9c179e\"], [0.4444444444444444, \"#bd3786\"], [0.5555555555555556, \"#d8576b\"], [0.6666666666666666, \"#ed7953\"], [0.7777777777777778, \"#fb9f3a\"], [0.8888888888888888, \"#fdca26\"], [1.0, \"#f0f921\"]], \"type\": \"histogram2dcontour\"}], \"mesh3d\": [{\"colorbar\": {\"outlinewidth\": 0, \"ticks\": \"\"}, \"type\": \"mesh3d\"}], \"parcoords\": [{\"line\": {\"colorbar\": {\"outlinewidth\": 0, \"ticks\": \"\"}}, \"type\": \"parcoords\"}], \"pie\": [{\"automargin\": true, \"type\": \"pie\"}], \"scatter\": [{\"marker\": {\"colorbar\": {\"outlinewidth\": 0, \"ticks\": \"\"}}, \"type\": \"scatter\"}], \"scatter3d\": [{\"line\": {\"colorbar\": {\"outlinewidth\": 0, \"ticks\": \"\"}}, \"marker\": {\"colorbar\": {\"outlinewidth\": 0, \"ticks\": \"\"}}, \"type\": \"scatter3d\"}], \"scattercarpet\": [{\"marker\": {\"colorbar\": {\"outlinewidth\": 0, \"ticks\": \"\"}}, \"type\": \"scattercarpet\"}], \"scattergeo\": [{\"marker\": {\"colorbar\": {\"outlinewidth\": 0, \"ticks\": \"\"}}, \"type\": \"scattergeo\"}], \"scattergl\": [{\"marker\": {\"colorbar\": {\"outlinewidth\": 0, \"ticks\": \"\"}}, \"type\": \"scattergl\"}], \"scattermapbox\": [{\"marker\": {\"colorbar\": {\"outlinewidth\": 0, \"ticks\": \"\"}}, \"type\": \"scattermapbox\"}], \"scatterpolar\": [{\"marker\": {\"colorbar\": {\"outlinewidth\": 0, \"ticks\": \"\"}}, \"type\": \"scatterpolar\"}], \"scatterpolargl\": [{\"marker\": {\"colorbar\": {\"outlinewidth\": 0, \"ticks\": \"\"}}, \"type\": \"scatterpolargl\"}], \"scatterternary\": [{\"marker\": {\"colorbar\": {\"outlinewidth\": 0, \"ticks\": \"\"}}, \"type\": \"scatterternary\"}], \"surface\": [{\"colorbar\": {\"outlinewidth\": 0, \"ticks\": \"\"}, \"colorscale\": [[0.0, \"#0d0887\"], [0.1111111111111111, \"#46039f\"], [0.2222222222222222, \"#7201a8\"], [0.3333333333333333, \"#9c179e\"], [0.4444444444444444, \"#bd3786\"], [0.5555555555555556, \"#d8576b\"], [0.6666666666666666, \"#ed7953\"], [0.7777777777777778, \"#fb9f3a\"], [0.8888888888888888, \"#fdca26\"], [1.0, \"#f0f921\"]], \"type\": \"surface\"}], \"table\": [{\"cells\": {\"fill\": {\"color\": \"#EBF0F8\"}, \"line\": {\"color\": \"white\"}}, \"header\": {\"fill\": {\"color\": \"#C8D4E3\"}, \"line\": {\"color\": \"white\"}}, \"type\": \"table\"}]}, \"layout\": {\"annotationdefaults\": {\"arrowcolor\": \"#2a3f5f\", \"arrowhead\": 0, \"arrowwidth\": 1}, \"coloraxis\": {\"colorbar\": {\"outlinewidth\": 0, \"ticks\": \"\"}}, \"colorscale\": {\"diverging\": [[0, \"#8e0152\"], [0.1, \"#c51b7d\"], [0.2, \"#de77ae\"], [0.3, \"#f1b6da\"], [0.4, \"#fde0ef\"], [0.5, \"#f7f7f7\"], [0.6, \"#e6f5d0\"], [0.7, \"#b8e186\"], [0.8, \"#7fbc41\"], [0.9, \"#4d9221\"], [1, \"#276419\"]], \"sequential\": [[0.0, \"#0d0887\"], [0.1111111111111111, \"#46039f\"], [0.2222222222222222, \"#7201a8\"], [0.3333333333333333, \"#9c179e\"], [0.4444444444444444, \"#bd3786\"], [0.5555555555555556, \"#d8576b\"], [0.6666666666666666, \"#ed7953\"], [0.7777777777777778, \"#fb9f3a\"], [0.8888888888888888, \"#fdca26\"], [1.0, \"#f0f921\"]], \"sequentialminus\": [[0.0, \"#0d0887\"], [0.1111111111111111, \"#46039f\"], [0.2222222222222222, \"#7201a8\"], [0.3333333333333333, \"#9c179e\"], [0.4444444444444444, \"#bd3786\"], [0.5555555555555556, \"#d8576b\"], [0.6666666666666666, \"#ed7953\"], [0.7777777777777778, \"#fb9f3a\"], [0.8888888888888888, \"#fdca26\"], [1.0, \"#f0f921\"]]}, \"colorway\": [\"#636efa\", \"#EF553B\", \"#00cc96\", \"#ab63fa\", \"#FFA15A\", \"#19d3f3\", \"#FF6692\", \"#B6E880\", \"#FF97FF\", \"#FECB52\"], \"font\": {\"color\": \"#2a3f5f\"}, \"geo\": {\"bgcolor\": \"white\", \"lakecolor\": \"white\", \"landcolor\": \"#E5ECF6\", \"showlakes\": true, \"showland\": true, \"subunitcolor\": \"white\"}, \"hoverlabel\": {\"align\": \"left\"}, \"hovermode\": \"closest\", \"mapbox\": {\"style\": \"light\"}, \"paper_bgcolor\": \"white\", \"plot_bgcolor\": \"#E5ECF6\", \"polar\": {\"angularaxis\": {\"gridcolor\": \"white\", \"linecolor\": \"white\", \"ticks\": \"\"}, \"bgcolor\": \"#E5ECF6\", \"radialaxis\": {\"gridcolor\": \"white\", \"linecolor\": \"white\", \"ticks\": \"\"}}, \"scene\": {\"xaxis\": {\"backgroundcolor\": \"#E5ECF6\", \"gridcolor\": \"white\", \"gridwidth\": 2, \"linecolor\": \"white\", \"showbackground\": true, \"ticks\": \"\", \"zerolinecolor\": \"white\"}, \"yaxis\": {\"backgroundcolor\": \"#E5ECF6\", \"gridcolor\": \"white\", \"gridwidth\": 2, \"linecolor\": \"white\", \"showbackground\": true, \"ticks\": \"\", \"zerolinecolor\": \"white\"}, \"zaxis\": {\"backgroundcolor\": \"#E5ECF6\", \"gridcolor\": \"white\", \"gridwidth\": 2, \"linecolor\": \"white\", \"showbackground\": true, \"ticks\": \"\", \"zerolinecolor\": \"white\"}}, \"shapedefaults\": {\"line\": {\"color\": \"#2a3f5f\"}}, \"ternary\": {\"aaxis\": {\"gridcolor\": \"white\", \"linecolor\": \"white\", \"ticks\": \"\"}, \"baxis\": {\"gridcolor\": \"white\", \"linecolor\": \"white\", \"ticks\": \"\"}, \"bgcolor\": \"#E5ECF6\", \"caxis\": {\"gridcolor\": \"white\", \"linecolor\": \"white\", \"ticks\": \"\"}}, \"title\": {\"x\": 0.05}, \"xaxis\": {\"automargin\": true, \"gridcolor\": \"white\", \"linecolor\": \"white\", \"ticks\": \"\", \"title\": {\"standoff\": 15}, \"zerolinecolor\": \"white\", \"zerolinewidth\": 2}, \"yaxis\": {\"automargin\": true, \"gridcolor\": \"white\", \"linecolor\": \"white\", \"ticks\": \"\", \"title\": {\"standoff\": 15}, \"zerolinecolor\": \"white\", \"zerolinewidth\": 2}}}, \"xaxis\": {\"anchor\": \"y\", \"domain\": [0.0, 1.0], \"title\": {\"text\": \"Solar_penetration\"}}, \"yaxis\": {\"anchor\": \"x\", \"domain\": [0.0, 1.0], \"title\": {\"text\": \"cap_ratio_Solar\"}}},\n",
       "                        {\"responsive\": true}\n",
       "                    ).then(function(){\n",
       "                            \n",
       "var gd = document.getElementById('86257fbe-4b91-4dfe-aa57-58130fe68693');\n",
       "var x = new MutationObserver(function (mutations, observer) {{\n",
       "        var display = window.getComputedStyle(gd).display;\n",
       "        if (!display || display === 'none') {{\n",
       "            console.log([gd, 'removed!']);\n",
       "            Plotly.purge(gd);\n",
       "            observer.disconnect();\n",
       "        }}\n",
       "}});\n",
       "\n",
       "// Listen for the removal of the full notebook cells\n",
       "var notebookContainer = gd.closest('#notebook-container');\n",
       "if (notebookContainer) {{\n",
       "    x.observe(notebookContainer, {childList: true});\n",
       "}}\n",
       "\n",
       "// Listen for the clearing of the current output cell\n",
       "var outputEl = gd.closest('.output');\n",
       "if (outputEl) {{\n",
       "    x.observe(outputEl, {childList: true});\n",
       "}}\n",
       "\n",
       "                        })\n",
       "                };\n",
       "                });\n",
       "            </script>\n",
       "        </div>"
      ]
     },
     "metadata": {},
     "output_type": "display_data"
    }
   ],
   "source": [
    "import plotly.express as px\n",
    "\n",
    "fig = px.scatter(df_m, x=\"Solar_penetration\", y=\"cap_ratio_Solar\", color=\"quarter\",\n",
    "                 trendline=\"ols\")\n",
    "fig.show()\n",
    "\n",
    "results = px.get_trendline_results(fig)\n",
    "#results.query(\"sex == 'Male' and smoker == 'Yes'\").px_fit_results.iloc[0].summary()"
   ]
  },
  {
   "cell_type": "code",
   "execution_count": 182,
   "metadata": {},
   "outputs": [
    {
     "name": "stdout",
     "output_type": "stream",
     "text": [
      "                            OLS Regression Results                            \n",
      "==============================================================================\n",
      "Dep. Variable:        cap_ratio_Solar   R-squared:                       0.540\n",
      "Model:                            OLS   Adj. R-squared:                  0.524\n",
      "Method:                 Least Squares   F-statistic:                     34.60\n",
      "Date:                Thu, 18 Mar 2021   Prob (F-statistic):           1.14e-10\n",
      "Time:                        07:54:12   Log-Likelihood:                 74.748\n",
      "No. Observations:                  62   AIC:                            -143.5\n",
      "Df Residuals:                      59   BIC:                            -137.1\n",
      "Df Model:                           2                                         \n",
      "Covariance Type:            nonrobust                                         \n",
      "=====================================================================================\n",
      "                        coef    std err          t      P>|t|      [0.025      0.975]\n",
      "-------------------------------------------------------------------------------------\n",
      "const                 1.2546      0.381      3.290      0.002       0.492       2.018\n",
      "Solar_penetration    -0.0198      0.008     -2.531      0.014      -0.035      -0.004\n",
      "Residual_Load     -2.257e-06   6.18e-06     -0.365      0.716   -1.46e-05    1.01e-05\n",
      "==============================================================================\n",
      "Omnibus:                       37.423   Durbin-Watson:                   1.173\n",
      "Prob(Omnibus):                  0.000   Jarque-Bera (JB):              113.647\n",
      "Skew:                          -1.764   Prob(JB):                     2.10e-25\n",
      "Kurtosis:                       8.616   Cond. No.                     2.14e+06\n",
      "==============================================================================\n",
      "\n",
      "Warnings:\n",
      "[1] Standard Errors assume that the covariance matrix of the errors is correctly specified.\n",
      "[2] The condition number is large, 2.14e+06. This might indicate that there are\n",
      "strong multicollinearity or other numerical problems.\n"
     ]
    }
   ],
   "source": [
    "import statsmodels.api as sm \n",
    "\n",
    "#df = df_d.dropna() \n",
    "df=df_m\n",
    "  \n",
    "# defining the variables \n",
    "x = df[['Solar_penetration','Residual_Load']]\n",
    "y = df['cap_ratio_Solar']\n",
    "  \n",
    "# adding the constant term \n",
    "x = sm.add_constant(x) \n",
    "\n",
    "# performing the regression \n",
    "# and fitting the model \n",
    "result = sm.OLS(y, x).fit() \n",
    "  \n",
    "# printing the summary table \n",
    "print(result.summary()) "
   ]
  },
  {
   "cell_type": "code",
   "execution_count": 183,
   "metadata": {},
   "outputs": [
    {
     "data": {
      "text/plain": [
       "'plots/DE Wind.html'"
      ]
     },
     "execution_count": 183,
     "metadata": {},
     "output_type": "execute_result"
    }
   ],
   "source": [
    "yy = 'ActualGenerationOutput ' + country+' Solar'\n",
    "\n",
    "fig = px.scatter(df_m, x=\"Wind_penetration\", y=\"cap_ratio_Wind Onshore\", color=\"quarter\",\n",
    "                 title=\"Capture Price Analysis \"+country,\n",
    "                 size=yy, \n",
    "                 hover_data={'quarter':False,\n",
    "                        'Wind_penetration':False,\n",
    "                        'cap_ratio_Wind Onshore':False,\n",
    "                             yy:':.0f'\n",
    "                       })\n",
    "\n",
    "fig.update_yaxes(title='Wind Capture Price/Daily Baseload (€/MWh)')\n",
    "fig.update_xaxes(title='Wind Penetration (%)')\n",
    "\n",
    "outdir = 'plots/'\n",
    "outfile = country+' Wind'+'.html'\n",
    "plotly.offline.plot(fig, filename = os.path.join(outdir, outfile))\n",
    "\n",
    "#fig.show()"
   ]
  },
  {
   "cell_type": "code",
   "execution_count": 19,
   "metadata": {},
   "outputs": [
    {
     "data": {
      "text/plain": [
       "'plots/DE Solar_cap_price vs Baseload (Monthly).html'"
      ]
     },
     "execution_count": 19,
     "metadata": {},
     "output_type": "execute_result"
    }
   ],
   "source": [
    "import plotly.express as px\n",
    "\n",
    "fig = px.scatter(df_m, x=\"Solar_penetration\", y=\"dif_Solar\", color=\"quarter\",\n",
    "                 title=\"Capture Price Analysis \"+country,\n",
    "                 size='ActualGenerationOutput ' + country+' Wind Onshore', \n",
    "                 hover_data={'quarter':False,\n",
    "                        'Solar_penetration':False,\n",
    "                        'dif_Solar':False,\n",
    "                        xx:':.0f',}\n",
    "                )\n",
    "\n",
    "fig.update_yaxes(title='Solar Capture Price - Monthly Baseload (€/MWh)')\n",
    "fig.update_xaxes(title='Solar Penetration (%)')\n",
    "\n",
    "#fig.show()\n",
    "\n",
    "outfile = country+' Solar_cap_price vs Baseload (Monthly)'+'.html'\n",
    "plotly.offline.plot(fig, filename = os.path.join(outdir, outfile))"
   ]
  },
  {
   "cell_type": "code",
   "execution_count": 24,
   "metadata": {},
   "outputs": [
    {
     "data": {
      "text/plain": [
       "'plots/DE Wind_cap_price vs Baseload(Daily).html'"
      ]
     },
     "execution_count": 24,
     "metadata": {},
     "output_type": "execute_result"
    }
   ],
   "source": [
    "fig = px.scatter(df_m, x=\"Wind_penetration\", y=\"dif_Wind Onshore\", color=\"quarter\",\n",
    "                 title=\"Capture Price Analysis \"+country,\n",
    "                 #size='petal_length', \n",
    "                 hover_data={'quarter':False,\n",
    "                        'Wind_penetration':False,\n",
    "                        'dif_Wind Onshore':False,\n",
    "                       })\n",
    "\n",
    "fig.update_yaxes(title='Wind Capture Price - Daily Baseload (€/MWh)')\n",
    "fig.update_xaxes(title='Wind Penetration (%)')\n",
    "\n",
    "outdir = 'plots/'\n",
    "outfile = country+' Wind_cap_price vs Baseload(Daily)'+'.html'\n",
    "plotly.offline.plot(fig, filename = os.path.join(outdir, outfile))\n",
    "\n",
    "#fig.show()"
   ]
  },
  {
   "cell_type": "code",
   "execution_count": 200,
   "metadata": {},
   "outputs": [
    {
     "data": {
      "application/vnd.plotly.v1+json": {
       "config": {
        "plotlyServerURL": "https://plot.ly"
       },
       "data": [
        {
         "mode": "lines",
         "name": "Solar Cap Price",
         "type": "scatter",
         "x": [
          "2016-01-01T00:00:00",
          "2016-02-01T00:00:00",
          "2016-03-01T00:00:00",
          "2016-04-01T00:00:00",
          "2016-05-01T00:00:00",
          "2016-06-01T00:00:00",
          "2016-07-01T00:00:00",
          "2016-08-01T00:00:00",
          "2016-09-01T00:00:00",
          "2016-10-01T00:00:00",
          "2016-11-01T00:00:00",
          "2016-12-01T00:00:00",
          "2017-01-01T00:00:00",
          "2017-02-01T00:00:00",
          "2017-03-01T00:00:00",
          "2017-04-01T00:00:00",
          "2017-05-01T00:00:00",
          "2017-06-01T00:00:00",
          "2017-07-01T00:00:00",
          "2017-08-01T00:00:00",
          "2017-09-01T00:00:00",
          "2017-10-01T00:00:00",
          "2017-11-01T00:00:00",
          "2017-12-01T00:00:00",
          "2018-01-01T00:00:00",
          "2018-02-01T00:00:00",
          "2018-03-01T00:00:00",
          "2018-04-01T00:00:00",
          "2018-05-01T00:00:00",
          "2018-06-01T00:00:00",
          "2018-07-01T00:00:00",
          "2018-08-01T00:00:00",
          "2018-09-01T00:00:00",
          "2018-10-01T00:00:00",
          "2018-11-01T00:00:00",
          "2018-12-01T00:00:00",
          "2019-01-01T00:00:00",
          "2019-02-01T00:00:00",
          "2019-03-01T00:00:00",
          "2019-04-01T00:00:00",
          "2019-05-01T00:00:00",
          "2019-06-01T00:00:00",
          "2019-07-01T00:00:00",
          "2019-08-01T00:00:00",
          "2019-09-01T00:00:00",
          "2019-10-01T00:00:00",
          "2019-11-01T00:00:00",
          "2019-12-01T00:00:00",
          "2020-01-01T00:00:00",
          "2020-02-01T00:00:00",
          "2020-03-01T00:00:00",
          "2020-04-01T00:00:00",
          "2020-05-01T00:00:00",
          "2020-06-01T00:00:00",
          "2020-07-01T00:00:00",
          "2020-08-01T00:00:00",
          "2020-09-01T00:00:00",
          "2020-10-01T00:00:00",
          "2020-11-01T00:00:00",
          "2020-12-01T00:00:00",
          "2021-01-01T00:00:00",
          "2021-02-01T00:00:00"
         ],
         "y": [
          32.243588058380595,
          24.062196737633137,
          23.12193980798495,
          23.445651566249,
          18.877005732247085,
          28.095962994878644,
          26.703576218149102,
          26.162497007620175,
          29.790786271347283,
          37.627746671841024,
          40.436326912682,
          43.629024765677755,
          56.98453658920983,
          41.554166105614236,
          30.765635875328208,
          25.238811167677486,
          29.837589749822396,
          29.421876568684624,
          32.29533497523299,
          30.206751596426983,
          35.554753269254924,
          29.158660891769696,
          42.9809877538569,
          32.9462388861016,
          34.40912257237388,
          40.40076638073455,
          37.01160698253661,
          29.54202550445158,
          31.872773351071263,
          42.51700851430745,
          49.12457614275624,
          55.95553397750144,
          52.111604342053106,
          53.42451388405229,
          59.759678785214184,
          56.15803288357706,
          59.14074135817958,
          42.13038351783984,
          30.834859907032847,
          31.760246016886057,
          35.32318448506277,
          29.107189498774275,
          39.173882814398794,
          33.78424146499464,
          33.45299602999808,
          37.83889334443776,
          43.844037847370565,
          36.96602957298094,
          38.3010668739346,
          23.219616624502024,
          16.220696460569695,
          8.9716637873714,
          14.136999591200281,
          24.732942098742367,
          26.253785860554355,
          33.20545844734048,
          39.80273070688376,
          32.662169780459166,
          39.980378501946866,
          48.06291651110305,
          55.45101920953321,
          44.97072464036859
         ]
        },
        {
         "mode": "lines",
         "name": "Onshore Wind Cap Price",
         "type": "scatter",
         "x": [
          "2016-01-01T00:00:00",
          "2016-02-01T00:00:00",
          "2016-03-01T00:00:00",
          "2016-04-01T00:00:00",
          "2016-05-01T00:00:00",
          "2016-06-01T00:00:00",
          "2016-07-01T00:00:00",
          "2016-08-01T00:00:00",
          "2016-09-01T00:00:00",
          "2016-10-01T00:00:00",
          "2016-11-01T00:00:00",
          "2016-12-01T00:00:00",
          "2017-01-01T00:00:00",
          "2017-02-01T00:00:00",
          "2017-03-01T00:00:00",
          "2017-04-01T00:00:00",
          "2017-05-01T00:00:00",
          "2017-06-01T00:00:00",
          "2017-07-01T00:00:00",
          "2017-08-01T00:00:00",
          "2017-09-01T00:00:00",
          "2017-10-01T00:00:00",
          "2017-11-01T00:00:00",
          "2017-12-01T00:00:00",
          "2018-01-01T00:00:00",
          "2018-02-01T00:00:00",
          "2018-03-01T00:00:00",
          "2018-04-01T00:00:00",
          "2018-05-01T00:00:00",
          "2018-06-01T00:00:00",
          "2018-07-01T00:00:00",
          "2018-08-01T00:00:00",
          "2018-09-01T00:00:00",
          "2018-10-01T00:00:00",
          "2018-11-01T00:00:00",
          "2018-12-01T00:00:00",
          "2019-01-01T00:00:00",
          "2019-02-01T00:00:00",
          "2019-03-01T00:00:00",
          "2019-04-01T00:00:00",
          "2019-05-01T00:00:00",
          "2019-06-01T00:00:00",
          "2019-07-01T00:00:00",
          "2019-08-01T00:00:00",
          "2019-09-01T00:00:00",
          "2019-10-01T00:00:00",
          "2019-11-01T00:00:00",
          "2019-12-01T00:00:00",
          "2020-01-01T00:00:00",
          "2020-02-01T00:00:00",
          "2020-03-01T00:00:00",
          "2020-04-01T00:00:00",
          "2020-05-01T00:00:00",
          "2020-06-01T00:00:00",
          "2020-07-01T00:00:00",
          "2020-08-01T00:00:00",
          "2020-09-01T00:00:00",
          "2020-10-01T00:00:00",
          "2020-11-01T00:00:00",
          "2020-12-01T00:00:00",
          "2021-01-01T00:00:00",
          "2021-02-01T00:00:00"
         ],
         "y": [
          24.27813281934856,
          18.467601682767555,
          21.216787268042932,
          23.287383432392513,
          18.587673835627687,
          26.552564029257663,
          24.020930639081115,
          25.406013959048583,
          27.568470255444044,
          33.95685312744458,
          32.93532505456952,
          24.07124227664894,
          41.04580250788282,
          32.92188814169722,
          28.781279143431693,
          24.23754312651726,
          26.424743940604564,
          25.642091045168165,
          29.494769329718977,
          27.246904367837843,
          27.830727738383217,
          19.932016952382188,
          31.101926763170088,
          22.266511030298716,
          22.295388585662206,
          35.80763859634389,
          30.144910440750003,
          29.304549685772084,
          28.040169591748707,
          37.597877966555735,
          46.878775887406974,
          52.51076780592412,
          48.319228775455656,
          43.88539622733504,
          52.228665927097346,
          39.86992522651346,
          39.11641149612253,
          38.39081542844604,
          24.71943893670291,
          34.17691614381204,
          35.96023073624762,
          24.472408879776975,
          36.56330569102079,
          30.945577623905166,
          30.93585734504376,
          32.426425394210824,
          37.09006777416091,
          26.512095348184232,
          31.159836543427065,
          17.595124272116653,
          18.43963768378292,
          11.39641032504268,
          13.148950613414497,
          22.283198206954147,
          21.91696865435476,
          30.14501849819618,
          38.08738448965712,
          30.14802887276125,
          32.19469713856758,
          33.8147327189244,
          46.66951697820415,
          43.97137877173477
         ]
        },
        {
         "mode": "markers",
         "name": "Baseload",
         "type": "scatter",
         "x": [
          "2016-01-01T00:00:00",
          "2016-02-01T00:00:00",
          "2016-03-01T00:00:00",
          "2016-04-01T00:00:00",
          "2016-05-01T00:00:00",
          "2016-06-01T00:00:00",
          "2016-07-01T00:00:00",
          "2016-08-01T00:00:00",
          "2016-09-01T00:00:00",
          "2016-10-01T00:00:00",
          "2016-11-01T00:00:00",
          "2016-12-01T00:00:00",
          "2017-01-01T00:00:00",
          "2017-02-01T00:00:00",
          "2017-03-01T00:00:00",
          "2017-04-01T00:00:00",
          "2017-05-01T00:00:00",
          "2017-06-01T00:00:00",
          "2017-07-01T00:00:00",
          "2017-08-01T00:00:00",
          "2017-09-01T00:00:00",
          "2017-10-01T00:00:00",
          "2017-11-01T00:00:00",
          "2017-12-01T00:00:00",
          "2018-01-01T00:00:00",
          "2018-02-01T00:00:00",
          "2018-03-01T00:00:00",
          "2018-04-01T00:00:00",
          "2018-05-01T00:00:00",
          "2018-06-01T00:00:00",
          "2018-07-01T00:00:00",
          "2018-08-01T00:00:00",
          "2018-09-01T00:00:00",
          "2018-10-01T00:00:00",
          "2018-11-01T00:00:00",
          "2018-12-01T00:00:00",
          "2019-01-01T00:00:00",
          "2019-02-01T00:00:00",
          "2019-03-01T00:00:00",
          "2019-04-01T00:00:00",
          "2019-05-01T00:00:00",
          "2019-06-01T00:00:00",
          "2019-07-01T00:00:00",
          "2019-08-01T00:00:00",
          "2019-09-01T00:00:00",
          "2019-10-01T00:00:00",
          "2019-11-01T00:00:00",
          "2019-12-01T00:00:00",
          "2020-01-01T00:00:00",
          "2020-02-01T00:00:00",
          "2020-03-01T00:00:00",
          "2020-04-01T00:00:00",
          "2020-05-01T00:00:00",
          "2020-06-01T00:00:00",
          "2020-07-01T00:00:00",
          "2020-08-01T00:00:00",
          "2020-09-01T00:00:00",
          "2020-10-01T00:00:00",
          "2020-11-01T00:00:00",
          "2020-12-01T00:00:00",
          "2021-01-01T00:00:00",
          "2021-02-01T00:00:00"
         ],
         "y": [
          29.03552419354841,
          21.98955459770116,
          24.305047106325713,
          24.213486111111123,
          22.542365591397825,
          27.69377777777778,
          27.18830645161289,
          27.182567204301062,
          30.493861111111134,
          37.13555107526878,
          38.222541666666714,
          37.477889784946214,
          52.372956989247285,
          39.701607142857085,
          31.70138627187081,
          28.869916666666704,
          30.46051075268821,
          30.001611111111085,
          33.00911290322575,
          30.848387096774193,
          34.348611111111104,
          28.401397849462384,
          40.366625000000056,
          30.765725806451645,
          29.461599462365566,
          40.11510416666666,
          37.36347240915211,
          32.05626388888889,
          33.54216397849465,
          42.42323611111113,
          49.548692722371975,
          56.18940860215045,
          54.832138888889,
          53.11408355795145,
          56.676013888888846,
          48.132123655913965,
          49.39337365591394,
          42.82078869047624,
          30.627075471698134,
          36.95590277777778,
          37.843561827956975,
          32.51758333333337,
          39.685026881720404,
          36.84849462365591,
          35.7507083333334,
          36.999556451612875,
          41.001208333333324,
          31.96614247311826,
          35.03490591397845,
          21.919008620689652,
          22.485827725437407,
          17.093125000000015,
          17.596505376344087,
          26.18488888888888,
          30.06286290322584,
          34.863951612903215,
          43.690194444444415,
          34.01510752688172,
          38.785708333333275,
          43.51974462365589,
          52.806223118279576,
          48.70494047619049
         ]
        }
       ],
       "layout": {
        "template": {
         "data": {
          "bar": [
           {
            "error_x": {
             "color": "#2a3f5f"
            },
            "error_y": {
             "color": "#2a3f5f"
            },
            "marker": {
             "line": {
              "color": "#E5ECF6",
              "width": 0.5
             }
            },
            "type": "bar"
           }
          ],
          "barpolar": [
           {
            "marker": {
             "line": {
              "color": "#E5ECF6",
              "width": 0.5
             }
            },
            "type": "barpolar"
           }
          ],
          "carpet": [
           {
            "aaxis": {
             "endlinecolor": "#2a3f5f",
             "gridcolor": "white",
             "linecolor": "white",
             "minorgridcolor": "white",
             "startlinecolor": "#2a3f5f"
            },
            "baxis": {
             "endlinecolor": "#2a3f5f",
             "gridcolor": "white",
             "linecolor": "white",
             "minorgridcolor": "white",
             "startlinecolor": "#2a3f5f"
            },
            "type": "carpet"
           }
          ],
          "choropleth": [
           {
            "colorbar": {
             "outlinewidth": 0,
             "ticks": ""
            },
            "type": "choropleth"
           }
          ],
          "contour": [
           {
            "colorbar": {
             "outlinewidth": 0,
             "ticks": ""
            },
            "colorscale": [
             [
              0,
              "#0d0887"
             ],
             [
              0.1111111111111111,
              "#46039f"
             ],
             [
              0.2222222222222222,
              "#7201a8"
             ],
             [
              0.3333333333333333,
              "#9c179e"
             ],
             [
              0.4444444444444444,
              "#bd3786"
             ],
             [
              0.5555555555555556,
              "#d8576b"
             ],
             [
              0.6666666666666666,
              "#ed7953"
             ],
             [
              0.7777777777777778,
              "#fb9f3a"
             ],
             [
              0.8888888888888888,
              "#fdca26"
             ],
             [
              1,
              "#f0f921"
             ]
            ],
            "type": "contour"
           }
          ],
          "contourcarpet": [
           {
            "colorbar": {
             "outlinewidth": 0,
             "ticks": ""
            },
            "type": "contourcarpet"
           }
          ],
          "heatmap": [
           {
            "colorbar": {
             "outlinewidth": 0,
             "ticks": ""
            },
            "colorscale": [
             [
              0,
              "#0d0887"
             ],
             [
              0.1111111111111111,
              "#46039f"
             ],
             [
              0.2222222222222222,
              "#7201a8"
             ],
             [
              0.3333333333333333,
              "#9c179e"
             ],
             [
              0.4444444444444444,
              "#bd3786"
             ],
             [
              0.5555555555555556,
              "#d8576b"
             ],
             [
              0.6666666666666666,
              "#ed7953"
             ],
             [
              0.7777777777777778,
              "#fb9f3a"
             ],
             [
              0.8888888888888888,
              "#fdca26"
             ],
             [
              1,
              "#f0f921"
             ]
            ],
            "type": "heatmap"
           }
          ],
          "heatmapgl": [
           {
            "colorbar": {
             "outlinewidth": 0,
             "ticks": ""
            },
            "colorscale": [
             [
              0,
              "#0d0887"
             ],
             [
              0.1111111111111111,
              "#46039f"
             ],
             [
              0.2222222222222222,
              "#7201a8"
             ],
             [
              0.3333333333333333,
              "#9c179e"
             ],
             [
              0.4444444444444444,
              "#bd3786"
             ],
             [
              0.5555555555555556,
              "#d8576b"
             ],
             [
              0.6666666666666666,
              "#ed7953"
             ],
             [
              0.7777777777777778,
              "#fb9f3a"
             ],
             [
              0.8888888888888888,
              "#fdca26"
             ],
             [
              1,
              "#f0f921"
             ]
            ],
            "type": "heatmapgl"
           }
          ],
          "histogram": [
           {
            "marker": {
             "colorbar": {
              "outlinewidth": 0,
              "ticks": ""
             }
            },
            "type": "histogram"
           }
          ],
          "histogram2d": [
           {
            "colorbar": {
             "outlinewidth": 0,
             "ticks": ""
            },
            "colorscale": [
             [
              0,
              "#0d0887"
             ],
             [
              0.1111111111111111,
              "#46039f"
             ],
             [
              0.2222222222222222,
              "#7201a8"
             ],
             [
              0.3333333333333333,
              "#9c179e"
             ],
             [
              0.4444444444444444,
              "#bd3786"
             ],
             [
              0.5555555555555556,
              "#d8576b"
             ],
             [
              0.6666666666666666,
              "#ed7953"
             ],
             [
              0.7777777777777778,
              "#fb9f3a"
             ],
             [
              0.8888888888888888,
              "#fdca26"
             ],
             [
              1,
              "#f0f921"
             ]
            ],
            "type": "histogram2d"
           }
          ],
          "histogram2dcontour": [
           {
            "colorbar": {
             "outlinewidth": 0,
             "ticks": ""
            },
            "colorscale": [
             [
              0,
              "#0d0887"
             ],
             [
              0.1111111111111111,
              "#46039f"
             ],
             [
              0.2222222222222222,
              "#7201a8"
             ],
             [
              0.3333333333333333,
              "#9c179e"
             ],
             [
              0.4444444444444444,
              "#bd3786"
             ],
             [
              0.5555555555555556,
              "#d8576b"
             ],
             [
              0.6666666666666666,
              "#ed7953"
             ],
             [
              0.7777777777777778,
              "#fb9f3a"
             ],
             [
              0.8888888888888888,
              "#fdca26"
             ],
             [
              1,
              "#f0f921"
             ]
            ],
            "type": "histogram2dcontour"
           }
          ],
          "mesh3d": [
           {
            "colorbar": {
             "outlinewidth": 0,
             "ticks": ""
            },
            "type": "mesh3d"
           }
          ],
          "parcoords": [
           {
            "line": {
             "colorbar": {
              "outlinewidth": 0,
              "ticks": ""
             }
            },
            "type": "parcoords"
           }
          ],
          "pie": [
           {
            "automargin": true,
            "type": "pie"
           }
          ],
          "scatter": [
           {
            "marker": {
             "colorbar": {
              "outlinewidth": 0,
              "ticks": ""
             }
            },
            "type": "scatter"
           }
          ],
          "scatter3d": [
           {
            "line": {
             "colorbar": {
              "outlinewidth": 0,
              "ticks": ""
             }
            },
            "marker": {
             "colorbar": {
              "outlinewidth": 0,
              "ticks": ""
             }
            },
            "type": "scatter3d"
           }
          ],
          "scattercarpet": [
           {
            "marker": {
             "colorbar": {
              "outlinewidth": 0,
              "ticks": ""
             }
            },
            "type": "scattercarpet"
           }
          ],
          "scattergeo": [
           {
            "marker": {
             "colorbar": {
              "outlinewidth": 0,
              "ticks": ""
             }
            },
            "type": "scattergeo"
           }
          ],
          "scattergl": [
           {
            "marker": {
             "colorbar": {
              "outlinewidth": 0,
              "ticks": ""
             }
            },
            "type": "scattergl"
           }
          ],
          "scattermapbox": [
           {
            "marker": {
             "colorbar": {
              "outlinewidth": 0,
              "ticks": ""
             }
            },
            "type": "scattermapbox"
           }
          ],
          "scatterpolar": [
           {
            "marker": {
             "colorbar": {
              "outlinewidth": 0,
              "ticks": ""
             }
            },
            "type": "scatterpolar"
           }
          ],
          "scatterpolargl": [
           {
            "marker": {
             "colorbar": {
              "outlinewidth": 0,
              "ticks": ""
             }
            },
            "type": "scatterpolargl"
           }
          ],
          "scatterternary": [
           {
            "marker": {
             "colorbar": {
              "outlinewidth": 0,
              "ticks": ""
             }
            },
            "type": "scatterternary"
           }
          ],
          "surface": [
           {
            "colorbar": {
             "outlinewidth": 0,
             "ticks": ""
            },
            "colorscale": [
             [
              0,
              "#0d0887"
             ],
             [
              0.1111111111111111,
              "#46039f"
             ],
             [
              0.2222222222222222,
              "#7201a8"
             ],
             [
              0.3333333333333333,
              "#9c179e"
             ],
             [
              0.4444444444444444,
              "#bd3786"
             ],
             [
              0.5555555555555556,
              "#d8576b"
             ],
             [
              0.6666666666666666,
              "#ed7953"
             ],
             [
              0.7777777777777778,
              "#fb9f3a"
             ],
             [
              0.8888888888888888,
              "#fdca26"
             ],
             [
              1,
              "#f0f921"
             ]
            ],
            "type": "surface"
           }
          ],
          "table": [
           {
            "cells": {
             "fill": {
              "color": "#EBF0F8"
             },
             "line": {
              "color": "white"
             }
            },
            "header": {
             "fill": {
              "color": "#C8D4E3"
             },
             "line": {
              "color": "white"
             }
            },
            "type": "table"
           }
          ]
         },
         "layout": {
          "annotationdefaults": {
           "arrowcolor": "#2a3f5f",
           "arrowhead": 0,
           "arrowwidth": 1
          },
          "coloraxis": {
           "colorbar": {
            "outlinewidth": 0,
            "ticks": ""
           }
          },
          "colorscale": {
           "diverging": [
            [
             0,
             "#8e0152"
            ],
            [
             0.1,
             "#c51b7d"
            ],
            [
             0.2,
             "#de77ae"
            ],
            [
             0.3,
             "#f1b6da"
            ],
            [
             0.4,
             "#fde0ef"
            ],
            [
             0.5,
             "#f7f7f7"
            ],
            [
             0.6,
             "#e6f5d0"
            ],
            [
             0.7,
             "#b8e186"
            ],
            [
             0.8,
             "#7fbc41"
            ],
            [
             0.9,
             "#4d9221"
            ],
            [
             1,
             "#276419"
            ]
           ],
           "sequential": [
            [
             0,
             "#0d0887"
            ],
            [
             0.1111111111111111,
             "#46039f"
            ],
            [
             0.2222222222222222,
             "#7201a8"
            ],
            [
             0.3333333333333333,
             "#9c179e"
            ],
            [
             0.4444444444444444,
             "#bd3786"
            ],
            [
             0.5555555555555556,
             "#d8576b"
            ],
            [
             0.6666666666666666,
             "#ed7953"
            ],
            [
             0.7777777777777778,
             "#fb9f3a"
            ],
            [
             0.8888888888888888,
             "#fdca26"
            ],
            [
             1,
             "#f0f921"
            ]
           ],
           "sequentialminus": [
            [
             0,
             "#0d0887"
            ],
            [
             0.1111111111111111,
             "#46039f"
            ],
            [
             0.2222222222222222,
             "#7201a8"
            ],
            [
             0.3333333333333333,
             "#9c179e"
            ],
            [
             0.4444444444444444,
             "#bd3786"
            ],
            [
             0.5555555555555556,
             "#d8576b"
            ],
            [
             0.6666666666666666,
             "#ed7953"
            ],
            [
             0.7777777777777778,
             "#fb9f3a"
            ],
            [
             0.8888888888888888,
             "#fdca26"
            ],
            [
             1,
             "#f0f921"
            ]
           ]
          },
          "colorway": [
           "#636efa",
           "#EF553B",
           "#00cc96",
           "#ab63fa",
           "#FFA15A",
           "#19d3f3",
           "#FF6692",
           "#B6E880",
           "#FF97FF",
           "#FECB52"
          ],
          "font": {
           "color": "#2a3f5f"
          },
          "geo": {
           "bgcolor": "white",
           "lakecolor": "white",
           "landcolor": "#E5ECF6",
           "showlakes": true,
           "showland": true,
           "subunitcolor": "white"
          },
          "hoverlabel": {
           "align": "left"
          },
          "hovermode": "closest",
          "mapbox": {
           "style": "light"
          },
          "paper_bgcolor": "white",
          "plot_bgcolor": "#E5ECF6",
          "polar": {
           "angularaxis": {
            "gridcolor": "white",
            "linecolor": "white",
            "ticks": ""
           },
           "bgcolor": "#E5ECF6",
           "radialaxis": {
            "gridcolor": "white",
            "linecolor": "white",
            "ticks": ""
           }
          },
          "scene": {
           "xaxis": {
            "backgroundcolor": "#E5ECF6",
            "gridcolor": "white",
            "gridwidth": 2,
            "linecolor": "white",
            "showbackground": true,
            "ticks": "",
            "zerolinecolor": "white"
           },
           "yaxis": {
            "backgroundcolor": "#E5ECF6",
            "gridcolor": "white",
            "gridwidth": 2,
            "linecolor": "white",
            "showbackground": true,
            "ticks": "",
            "zerolinecolor": "white"
           },
           "zaxis": {
            "backgroundcolor": "#E5ECF6",
            "gridcolor": "white",
            "gridwidth": 2,
            "linecolor": "white",
            "showbackground": true,
            "ticks": "",
            "zerolinecolor": "white"
           }
          },
          "shapedefaults": {
           "line": {
            "color": "#2a3f5f"
           }
          },
          "ternary": {
           "aaxis": {
            "gridcolor": "white",
            "linecolor": "white",
            "ticks": ""
           },
           "baxis": {
            "gridcolor": "white",
            "linecolor": "white",
            "ticks": ""
           },
           "bgcolor": "#E5ECF6",
           "caxis": {
            "gridcolor": "white",
            "linecolor": "white",
            "ticks": ""
           }
          },
          "title": {
           "x": 0.05
          },
          "xaxis": {
           "automargin": true,
           "gridcolor": "white",
           "linecolor": "white",
           "ticks": "",
           "title": {
            "standoff": 15
           },
           "zerolinecolor": "white",
           "zerolinewidth": 2
          },
          "yaxis": {
           "automargin": true,
           "gridcolor": "white",
           "linecolor": "white",
           "ticks": "",
           "title": {
            "standoff": 15
           },
           "zerolinecolor": "white",
           "zerolinewidth": 2
          }
         }
        },
        "title": {
         "text": "Capture Price Evolution - DE"
        },
        "yaxis": {
         "title": {
          "text": "€/MWh"
         }
        }
       }
      },
      "text/html": [
       "<div>\n",
       "        \n",
       "        \n",
       "            <div id=\"88246625-7e2c-4265-a264-554631a956fc\" class=\"plotly-graph-div\" style=\"height:525px; width:100%;\"></div>\n",
       "            <script type=\"text/javascript\">\n",
       "                require([\"plotly\"], function(Plotly) {\n",
       "                    window.PLOTLYENV=window.PLOTLYENV || {};\n",
       "                    \n",
       "                if (document.getElementById(\"88246625-7e2c-4265-a264-554631a956fc\")) {\n",
       "                    Plotly.newPlot(\n",
       "                        '88246625-7e2c-4265-a264-554631a956fc',\n",
       "                        [{\"mode\": \"lines\", \"name\": \"Solar Cap Price\", \"type\": \"scatter\", \"x\": [\"2016-01-01T00:00:00\", \"2016-02-01T00:00:00\", \"2016-03-01T00:00:00\", \"2016-04-01T00:00:00\", \"2016-05-01T00:00:00\", \"2016-06-01T00:00:00\", \"2016-07-01T00:00:00\", \"2016-08-01T00:00:00\", \"2016-09-01T00:00:00\", \"2016-10-01T00:00:00\", \"2016-11-01T00:00:00\", \"2016-12-01T00:00:00\", \"2017-01-01T00:00:00\", \"2017-02-01T00:00:00\", \"2017-03-01T00:00:00\", \"2017-04-01T00:00:00\", \"2017-05-01T00:00:00\", \"2017-06-01T00:00:00\", \"2017-07-01T00:00:00\", \"2017-08-01T00:00:00\", \"2017-09-01T00:00:00\", \"2017-10-01T00:00:00\", \"2017-11-01T00:00:00\", \"2017-12-01T00:00:00\", \"2018-01-01T00:00:00\", \"2018-02-01T00:00:00\", \"2018-03-01T00:00:00\", \"2018-04-01T00:00:00\", \"2018-05-01T00:00:00\", \"2018-06-01T00:00:00\", \"2018-07-01T00:00:00\", \"2018-08-01T00:00:00\", \"2018-09-01T00:00:00\", \"2018-10-01T00:00:00\", \"2018-11-01T00:00:00\", \"2018-12-01T00:00:00\", \"2019-01-01T00:00:00\", \"2019-02-01T00:00:00\", \"2019-03-01T00:00:00\", \"2019-04-01T00:00:00\", \"2019-05-01T00:00:00\", \"2019-06-01T00:00:00\", \"2019-07-01T00:00:00\", \"2019-08-01T00:00:00\", \"2019-09-01T00:00:00\", \"2019-10-01T00:00:00\", \"2019-11-01T00:00:00\", \"2019-12-01T00:00:00\", \"2020-01-01T00:00:00\", \"2020-02-01T00:00:00\", \"2020-03-01T00:00:00\", \"2020-04-01T00:00:00\", \"2020-05-01T00:00:00\", \"2020-06-01T00:00:00\", \"2020-07-01T00:00:00\", \"2020-08-01T00:00:00\", \"2020-09-01T00:00:00\", \"2020-10-01T00:00:00\", \"2020-11-01T00:00:00\", \"2020-12-01T00:00:00\", \"2021-01-01T00:00:00\", \"2021-02-01T00:00:00\"], \"y\": [32.243588058380595, 24.062196737633137, 23.12193980798495, 23.445651566249, 18.877005732247085, 28.095962994878644, 26.703576218149102, 26.162497007620175, 29.790786271347283, 37.627746671841024, 40.436326912682, 43.629024765677755, 56.98453658920983, 41.554166105614236, 30.765635875328208, 25.238811167677486, 29.837589749822396, 29.421876568684624, 32.29533497523299, 30.206751596426983, 35.554753269254924, 29.158660891769696, 42.9809877538569, 32.9462388861016, 34.40912257237388, 40.40076638073455, 37.01160698253661, 29.54202550445158, 31.872773351071263, 42.51700851430745, 49.12457614275624, 55.95553397750144, 52.111604342053106, 53.42451388405229, 59.759678785214184, 56.15803288357706, 59.14074135817958, 42.13038351783984, 30.834859907032847, 31.760246016886057, 35.32318448506277, 29.107189498774275, 39.173882814398794, 33.78424146499464, 33.45299602999808, 37.83889334443776, 43.844037847370565, 36.96602957298094, 38.3010668739346, 23.219616624502024, 16.220696460569695, 8.9716637873714, 14.136999591200281, 24.732942098742367, 26.253785860554355, 33.20545844734048, 39.80273070688376, 32.662169780459166, 39.980378501946866, 48.06291651110305, 55.45101920953321, 44.97072464036859]}, {\"mode\": \"lines\", \"name\": \"Onshore Wind Cap Price\", \"type\": \"scatter\", \"x\": [\"2016-01-01T00:00:00\", \"2016-02-01T00:00:00\", \"2016-03-01T00:00:00\", \"2016-04-01T00:00:00\", \"2016-05-01T00:00:00\", \"2016-06-01T00:00:00\", \"2016-07-01T00:00:00\", \"2016-08-01T00:00:00\", \"2016-09-01T00:00:00\", \"2016-10-01T00:00:00\", \"2016-11-01T00:00:00\", \"2016-12-01T00:00:00\", \"2017-01-01T00:00:00\", \"2017-02-01T00:00:00\", \"2017-03-01T00:00:00\", \"2017-04-01T00:00:00\", \"2017-05-01T00:00:00\", \"2017-06-01T00:00:00\", \"2017-07-01T00:00:00\", \"2017-08-01T00:00:00\", \"2017-09-01T00:00:00\", \"2017-10-01T00:00:00\", \"2017-11-01T00:00:00\", \"2017-12-01T00:00:00\", \"2018-01-01T00:00:00\", \"2018-02-01T00:00:00\", \"2018-03-01T00:00:00\", \"2018-04-01T00:00:00\", \"2018-05-01T00:00:00\", \"2018-06-01T00:00:00\", \"2018-07-01T00:00:00\", \"2018-08-01T00:00:00\", \"2018-09-01T00:00:00\", \"2018-10-01T00:00:00\", \"2018-11-01T00:00:00\", \"2018-12-01T00:00:00\", \"2019-01-01T00:00:00\", \"2019-02-01T00:00:00\", \"2019-03-01T00:00:00\", \"2019-04-01T00:00:00\", \"2019-05-01T00:00:00\", \"2019-06-01T00:00:00\", \"2019-07-01T00:00:00\", \"2019-08-01T00:00:00\", \"2019-09-01T00:00:00\", \"2019-10-01T00:00:00\", \"2019-11-01T00:00:00\", \"2019-12-01T00:00:00\", \"2020-01-01T00:00:00\", \"2020-02-01T00:00:00\", \"2020-03-01T00:00:00\", \"2020-04-01T00:00:00\", \"2020-05-01T00:00:00\", \"2020-06-01T00:00:00\", \"2020-07-01T00:00:00\", \"2020-08-01T00:00:00\", \"2020-09-01T00:00:00\", \"2020-10-01T00:00:00\", \"2020-11-01T00:00:00\", \"2020-12-01T00:00:00\", \"2021-01-01T00:00:00\", \"2021-02-01T00:00:00\"], \"y\": [24.27813281934856, 18.467601682767555, 21.216787268042932, 23.287383432392513, 18.587673835627687, 26.552564029257663, 24.020930639081115, 25.406013959048583, 27.568470255444044, 33.95685312744458, 32.93532505456952, 24.07124227664894, 41.04580250788282, 32.92188814169722, 28.781279143431693, 24.23754312651726, 26.424743940604564, 25.642091045168165, 29.494769329718977, 27.246904367837843, 27.830727738383217, 19.932016952382188, 31.101926763170088, 22.266511030298716, 22.295388585662206, 35.80763859634389, 30.144910440750003, 29.304549685772084, 28.040169591748707, 37.597877966555735, 46.878775887406974, 52.51076780592412, 48.319228775455656, 43.88539622733504, 52.228665927097346, 39.86992522651346, 39.11641149612253, 38.39081542844604, 24.71943893670291, 34.17691614381204, 35.96023073624762, 24.472408879776975, 36.56330569102079, 30.945577623905166, 30.93585734504376, 32.426425394210824, 37.09006777416091, 26.512095348184232, 31.159836543427065, 17.595124272116653, 18.43963768378292, 11.39641032504268, 13.148950613414497, 22.283198206954147, 21.91696865435476, 30.14501849819618, 38.08738448965712, 30.14802887276125, 32.19469713856758, 33.8147327189244, 46.66951697820415, 43.97137877173477]}, {\"mode\": \"markers\", \"name\": \"Baseload\", \"type\": \"scatter\", \"x\": [\"2016-01-01T00:00:00\", \"2016-02-01T00:00:00\", \"2016-03-01T00:00:00\", \"2016-04-01T00:00:00\", \"2016-05-01T00:00:00\", \"2016-06-01T00:00:00\", \"2016-07-01T00:00:00\", \"2016-08-01T00:00:00\", \"2016-09-01T00:00:00\", \"2016-10-01T00:00:00\", \"2016-11-01T00:00:00\", \"2016-12-01T00:00:00\", \"2017-01-01T00:00:00\", \"2017-02-01T00:00:00\", \"2017-03-01T00:00:00\", \"2017-04-01T00:00:00\", \"2017-05-01T00:00:00\", \"2017-06-01T00:00:00\", \"2017-07-01T00:00:00\", \"2017-08-01T00:00:00\", \"2017-09-01T00:00:00\", \"2017-10-01T00:00:00\", \"2017-11-01T00:00:00\", \"2017-12-01T00:00:00\", \"2018-01-01T00:00:00\", \"2018-02-01T00:00:00\", \"2018-03-01T00:00:00\", \"2018-04-01T00:00:00\", \"2018-05-01T00:00:00\", \"2018-06-01T00:00:00\", \"2018-07-01T00:00:00\", \"2018-08-01T00:00:00\", \"2018-09-01T00:00:00\", \"2018-10-01T00:00:00\", \"2018-11-01T00:00:00\", \"2018-12-01T00:00:00\", \"2019-01-01T00:00:00\", \"2019-02-01T00:00:00\", \"2019-03-01T00:00:00\", \"2019-04-01T00:00:00\", \"2019-05-01T00:00:00\", \"2019-06-01T00:00:00\", \"2019-07-01T00:00:00\", \"2019-08-01T00:00:00\", \"2019-09-01T00:00:00\", \"2019-10-01T00:00:00\", \"2019-11-01T00:00:00\", \"2019-12-01T00:00:00\", \"2020-01-01T00:00:00\", \"2020-02-01T00:00:00\", \"2020-03-01T00:00:00\", \"2020-04-01T00:00:00\", \"2020-05-01T00:00:00\", \"2020-06-01T00:00:00\", \"2020-07-01T00:00:00\", \"2020-08-01T00:00:00\", \"2020-09-01T00:00:00\", \"2020-10-01T00:00:00\", \"2020-11-01T00:00:00\", \"2020-12-01T00:00:00\", \"2021-01-01T00:00:00\", \"2021-02-01T00:00:00\"], \"y\": [29.03552419354841, 21.98955459770116, 24.305047106325713, 24.213486111111123, 22.542365591397825, 27.69377777777778, 27.18830645161289, 27.182567204301062, 30.493861111111134, 37.13555107526878, 38.222541666666714, 37.477889784946214, 52.372956989247285, 39.701607142857085, 31.70138627187081, 28.869916666666704, 30.46051075268821, 30.001611111111085, 33.00911290322575, 30.848387096774193, 34.348611111111104, 28.401397849462384, 40.366625000000056, 30.765725806451645, 29.461599462365566, 40.11510416666666, 37.36347240915211, 32.05626388888889, 33.54216397849465, 42.42323611111113, 49.548692722371975, 56.18940860215045, 54.832138888889, 53.11408355795145, 56.676013888888846, 48.132123655913965, 49.39337365591394, 42.82078869047624, 30.627075471698134, 36.95590277777778, 37.843561827956975, 32.51758333333337, 39.685026881720404, 36.84849462365591, 35.7507083333334, 36.999556451612875, 41.001208333333324, 31.96614247311826, 35.03490591397845, 21.919008620689652, 22.485827725437407, 17.093125000000015, 17.596505376344087, 26.18488888888888, 30.06286290322584, 34.863951612903215, 43.690194444444415, 34.01510752688172, 38.785708333333275, 43.51974462365589, 52.806223118279576, 48.70494047619049]}],\n",
       "                        {\"template\": {\"data\": {\"bar\": [{\"error_x\": {\"color\": \"#2a3f5f\"}, \"error_y\": {\"color\": \"#2a3f5f\"}, \"marker\": {\"line\": {\"color\": \"#E5ECF6\", \"width\": 0.5}}, \"type\": \"bar\"}], \"barpolar\": [{\"marker\": {\"line\": {\"color\": \"#E5ECF6\", \"width\": 0.5}}, \"type\": \"barpolar\"}], \"carpet\": [{\"aaxis\": {\"endlinecolor\": \"#2a3f5f\", \"gridcolor\": \"white\", \"linecolor\": \"white\", \"minorgridcolor\": \"white\", \"startlinecolor\": \"#2a3f5f\"}, \"baxis\": {\"endlinecolor\": \"#2a3f5f\", \"gridcolor\": \"white\", \"linecolor\": \"white\", \"minorgridcolor\": \"white\", \"startlinecolor\": \"#2a3f5f\"}, \"type\": \"carpet\"}], \"choropleth\": [{\"colorbar\": {\"outlinewidth\": 0, \"ticks\": \"\"}, \"type\": \"choropleth\"}], \"contour\": [{\"colorbar\": {\"outlinewidth\": 0, \"ticks\": \"\"}, \"colorscale\": [[0.0, \"#0d0887\"], [0.1111111111111111, \"#46039f\"], [0.2222222222222222, \"#7201a8\"], [0.3333333333333333, \"#9c179e\"], [0.4444444444444444, \"#bd3786\"], [0.5555555555555556, \"#d8576b\"], [0.6666666666666666, \"#ed7953\"], [0.7777777777777778, \"#fb9f3a\"], [0.8888888888888888, \"#fdca26\"], [1.0, \"#f0f921\"]], \"type\": \"contour\"}], \"contourcarpet\": [{\"colorbar\": {\"outlinewidth\": 0, \"ticks\": \"\"}, \"type\": \"contourcarpet\"}], \"heatmap\": [{\"colorbar\": {\"outlinewidth\": 0, \"ticks\": \"\"}, \"colorscale\": [[0.0, \"#0d0887\"], [0.1111111111111111, \"#46039f\"], [0.2222222222222222, \"#7201a8\"], [0.3333333333333333, \"#9c179e\"], [0.4444444444444444, \"#bd3786\"], [0.5555555555555556, \"#d8576b\"], [0.6666666666666666, \"#ed7953\"], [0.7777777777777778, \"#fb9f3a\"], [0.8888888888888888, \"#fdca26\"], [1.0, \"#f0f921\"]], \"type\": \"heatmap\"}], \"heatmapgl\": [{\"colorbar\": {\"outlinewidth\": 0, \"ticks\": \"\"}, \"colorscale\": [[0.0, \"#0d0887\"], [0.1111111111111111, \"#46039f\"], [0.2222222222222222, \"#7201a8\"], [0.3333333333333333, \"#9c179e\"], [0.4444444444444444, \"#bd3786\"], [0.5555555555555556, \"#d8576b\"], [0.6666666666666666, \"#ed7953\"], [0.7777777777777778, \"#fb9f3a\"], [0.8888888888888888, \"#fdca26\"], [1.0, \"#f0f921\"]], \"type\": \"heatmapgl\"}], \"histogram\": [{\"marker\": {\"colorbar\": {\"outlinewidth\": 0, \"ticks\": \"\"}}, \"type\": \"histogram\"}], \"histogram2d\": [{\"colorbar\": {\"outlinewidth\": 0, \"ticks\": \"\"}, \"colorscale\": [[0.0, \"#0d0887\"], [0.1111111111111111, \"#46039f\"], [0.2222222222222222, \"#7201a8\"], [0.3333333333333333, \"#9c179e\"], [0.4444444444444444, \"#bd3786\"], [0.5555555555555556, \"#d8576b\"], [0.6666666666666666, \"#ed7953\"], [0.7777777777777778, \"#fb9f3a\"], [0.8888888888888888, \"#fdca26\"], [1.0, \"#f0f921\"]], \"type\": \"histogram2d\"}], \"histogram2dcontour\": [{\"colorbar\": {\"outlinewidth\": 0, \"ticks\": \"\"}, \"colorscale\": [[0.0, \"#0d0887\"], [0.1111111111111111, \"#46039f\"], [0.2222222222222222, \"#7201a8\"], [0.3333333333333333, \"#9c179e\"], [0.4444444444444444, \"#bd3786\"], [0.5555555555555556, \"#d8576b\"], [0.6666666666666666, \"#ed7953\"], [0.7777777777777778, \"#fb9f3a\"], [0.8888888888888888, \"#fdca26\"], [1.0, \"#f0f921\"]], \"type\": \"histogram2dcontour\"}], \"mesh3d\": [{\"colorbar\": {\"outlinewidth\": 0, \"ticks\": \"\"}, \"type\": \"mesh3d\"}], \"parcoords\": [{\"line\": {\"colorbar\": {\"outlinewidth\": 0, \"ticks\": \"\"}}, \"type\": \"parcoords\"}], \"pie\": [{\"automargin\": true, \"type\": \"pie\"}], \"scatter\": [{\"marker\": {\"colorbar\": {\"outlinewidth\": 0, \"ticks\": \"\"}}, \"type\": \"scatter\"}], \"scatter3d\": [{\"line\": {\"colorbar\": {\"outlinewidth\": 0, \"ticks\": \"\"}}, \"marker\": {\"colorbar\": {\"outlinewidth\": 0, \"ticks\": \"\"}}, \"type\": \"scatter3d\"}], \"scattercarpet\": [{\"marker\": {\"colorbar\": {\"outlinewidth\": 0, \"ticks\": \"\"}}, \"type\": \"scattercarpet\"}], \"scattergeo\": [{\"marker\": {\"colorbar\": {\"outlinewidth\": 0, \"ticks\": \"\"}}, \"type\": \"scattergeo\"}], \"scattergl\": [{\"marker\": {\"colorbar\": {\"outlinewidth\": 0, \"ticks\": \"\"}}, \"type\": \"scattergl\"}], \"scattermapbox\": [{\"marker\": {\"colorbar\": {\"outlinewidth\": 0, \"ticks\": \"\"}}, \"type\": \"scattermapbox\"}], \"scatterpolar\": [{\"marker\": {\"colorbar\": {\"outlinewidth\": 0, \"ticks\": \"\"}}, \"type\": \"scatterpolar\"}], \"scatterpolargl\": [{\"marker\": {\"colorbar\": {\"outlinewidth\": 0, \"ticks\": \"\"}}, \"type\": \"scatterpolargl\"}], \"scatterternary\": [{\"marker\": {\"colorbar\": {\"outlinewidth\": 0, \"ticks\": \"\"}}, \"type\": \"scatterternary\"}], \"surface\": [{\"colorbar\": {\"outlinewidth\": 0, \"ticks\": \"\"}, \"colorscale\": [[0.0, \"#0d0887\"], [0.1111111111111111, \"#46039f\"], [0.2222222222222222, \"#7201a8\"], [0.3333333333333333, \"#9c179e\"], [0.4444444444444444, \"#bd3786\"], [0.5555555555555556, \"#d8576b\"], [0.6666666666666666, \"#ed7953\"], [0.7777777777777778, \"#fb9f3a\"], [0.8888888888888888, \"#fdca26\"], [1.0, \"#f0f921\"]], \"type\": \"surface\"}], \"table\": [{\"cells\": {\"fill\": {\"color\": \"#EBF0F8\"}, \"line\": {\"color\": \"white\"}}, \"header\": {\"fill\": {\"color\": \"#C8D4E3\"}, \"line\": {\"color\": \"white\"}}, \"type\": \"table\"}]}, \"layout\": {\"annotationdefaults\": {\"arrowcolor\": \"#2a3f5f\", \"arrowhead\": 0, \"arrowwidth\": 1}, \"coloraxis\": {\"colorbar\": {\"outlinewidth\": 0, \"ticks\": \"\"}}, \"colorscale\": {\"diverging\": [[0, \"#8e0152\"], [0.1, \"#c51b7d\"], [0.2, \"#de77ae\"], [0.3, \"#f1b6da\"], [0.4, \"#fde0ef\"], [0.5, \"#f7f7f7\"], [0.6, \"#e6f5d0\"], [0.7, \"#b8e186\"], [0.8, \"#7fbc41\"], [0.9, \"#4d9221\"], [1, \"#276419\"]], \"sequential\": [[0.0, \"#0d0887\"], [0.1111111111111111, \"#46039f\"], [0.2222222222222222, \"#7201a8\"], [0.3333333333333333, \"#9c179e\"], [0.4444444444444444, \"#bd3786\"], [0.5555555555555556, \"#d8576b\"], [0.6666666666666666, \"#ed7953\"], [0.7777777777777778, \"#fb9f3a\"], [0.8888888888888888, \"#fdca26\"], [1.0, \"#f0f921\"]], \"sequentialminus\": [[0.0, \"#0d0887\"], [0.1111111111111111, \"#46039f\"], [0.2222222222222222, \"#7201a8\"], [0.3333333333333333, \"#9c179e\"], [0.4444444444444444, \"#bd3786\"], [0.5555555555555556, \"#d8576b\"], [0.6666666666666666, \"#ed7953\"], [0.7777777777777778, \"#fb9f3a\"], [0.8888888888888888, \"#fdca26\"], [1.0, \"#f0f921\"]]}, \"colorway\": [\"#636efa\", \"#EF553B\", \"#00cc96\", \"#ab63fa\", \"#FFA15A\", \"#19d3f3\", \"#FF6692\", \"#B6E880\", \"#FF97FF\", \"#FECB52\"], \"font\": {\"color\": \"#2a3f5f\"}, \"geo\": {\"bgcolor\": \"white\", \"lakecolor\": \"white\", \"landcolor\": \"#E5ECF6\", \"showlakes\": true, \"showland\": true, \"subunitcolor\": \"white\"}, \"hoverlabel\": {\"align\": \"left\"}, \"hovermode\": \"closest\", \"mapbox\": {\"style\": \"light\"}, \"paper_bgcolor\": \"white\", \"plot_bgcolor\": \"#E5ECF6\", \"polar\": {\"angularaxis\": {\"gridcolor\": \"white\", \"linecolor\": \"white\", \"ticks\": \"\"}, \"bgcolor\": \"#E5ECF6\", \"radialaxis\": {\"gridcolor\": \"white\", \"linecolor\": \"white\", \"ticks\": \"\"}}, \"scene\": {\"xaxis\": {\"backgroundcolor\": \"#E5ECF6\", \"gridcolor\": \"white\", \"gridwidth\": 2, \"linecolor\": \"white\", \"showbackground\": true, \"ticks\": \"\", \"zerolinecolor\": \"white\"}, \"yaxis\": {\"backgroundcolor\": \"#E5ECF6\", \"gridcolor\": \"white\", \"gridwidth\": 2, \"linecolor\": \"white\", \"showbackground\": true, \"ticks\": \"\", \"zerolinecolor\": \"white\"}, \"zaxis\": {\"backgroundcolor\": \"#E5ECF6\", \"gridcolor\": \"white\", \"gridwidth\": 2, \"linecolor\": \"white\", \"showbackground\": true, \"ticks\": \"\", \"zerolinecolor\": \"white\"}}, \"shapedefaults\": {\"line\": {\"color\": \"#2a3f5f\"}}, \"ternary\": {\"aaxis\": {\"gridcolor\": \"white\", \"linecolor\": \"white\", \"ticks\": \"\"}, \"baxis\": {\"gridcolor\": \"white\", \"linecolor\": \"white\", \"ticks\": \"\"}, \"bgcolor\": \"#E5ECF6\", \"caxis\": {\"gridcolor\": \"white\", \"linecolor\": \"white\", \"ticks\": \"\"}}, \"title\": {\"x\": 0.05}, \"xaxis\": {\"automargin\": true, \"gridcolor\": \"white\", \"linecolor\": \"white\", \"ticks\": \"\", \"title\": {\"standoff\": 15}, \"zerolinecolor\": \"white\", \"zerolinewidth\": 2}, \"yaxis\": {\"automargin\": true, \"gridcolor\": \"white\", \"linecolor\": \"white\", \"ticks\": \"\", \"title\": {\"standoff\": 15}, \"zerolinecolor\": \"white\", \"zerolinewidth\": 2}}}, \"title\": {\"text\": \"Capture Price Evolution - DE\"}, \"yaxis\": {\"title\": {\"text\": \"\\u20ac/MWh\"}}},\n",
       "                        {\"responsive\": true}\n",
       "                    ).then(function(){\n",
       "                            \n",
       "var gd = document.getElementById('88246625-7e2c-4265-a264-554631a956fc');\n",
       "var x = new MutationObserver(function (mutations, observer) {{\n",
       "        var display = window.getComputedStyle(gd).display;\n",
       "        if (!display || display === 'none') {{\n",
       "            console.log([gd, 'removed!']);\n",
       "            Plotly.purge(gd);\n",
       "            observer.disconnect();\n",
       "        }}\n",
       "}});\n",
       "\n",
       "// Listen for the removal of the full notebook cells\n",
       "var notebookContainer = gd.closest('#notebook-container');\n",
       "if (notebookContainer) {{\n",
       "    x.observe(notebookContainer, {childList: true});\n",
       "}}\n",
       "\n",
       "// Listen for the clearing of the current output cell\n",
       "var outputEl = gd.closest('.output');\n",
       "if (outputEl) {{\n",
       "    x.observe(outputEl, {childList: true});\n",
       "}}\n",
       "\n",
       "                        })\n",
       "                };\n",
       "                });\n",
       "            </script>\n",
       "        </div>"
      ]
     },
     "metadata": {},
     "output_type": "display_data"
    }
   ],
   "source": [
    "import plotly.graph_objects as go\n",
    "import numpy as np\n",
    "\n",
    "fig = go.Figure()\n",
    "\n",
    "fig.add_trace(go.Scatter(\n",
    "    x=df_m.index, y=df_m['cap_price_Solar'],\n",
    "    mode='lines',\n",
    "    name = 'Solar Cap Price'\n",
    "    \n",
    "))\n",
    "\n",
    "fig.add_trace(go.Scatter(\n",
    "    x=df_m.index, y=df_m['cap_price_Wind Onshore'],\n",
    "    mode='lines',\n",
    "        name = 'Onshore Wind Cap Price'\n",
    "\n",
    "    \n",
    "))\n",
    "\n",
    "fig.add_trace(go.Scatter(\n",
    "    x=df_m.index, y=df_m['DayAheadPrices_'+country],\n",
    "    mode='lines',\n",
    "    name = 'Baseload'\n",
    "\n",
    "    \n",
    "))\n",
    "\n",
    "# Set options common to all traces with fig.update_traces\n",
    "#fig.update_traces(mode='markers', marker_line_width=2, marker_size=6)\n",
    "fig.update_layout(title='Capture Price Evolution - ' + country)\n",
    "\n",
    "fig.update_yaxes(title='€/MWh')\n",
    "\n",
    "\n",
    "fig.show()"
   ]
  },
  {
   "cell_type": "code",
   "execution_count": 124,
   "metadata": {},
   "outputs": [
    {
     "data": {
      "text/plain": [
       "<matplotlib.axes._subplots.AxesSubplot at 0x284f5688>"
      ]
     },
     "execution_count": 124,
     "metadata": {},
     "output_type": "execute_result"
    },
    {
     "data": {
      "image/png": "[encoded data removed]",
      "text/plain": [
       "<Figure size 432x288 with 1 Axes>"
      ]
     },
     "metadata": {
      "needs_background": "light"
     },
     "output_type": "display_data"
    }
   ],
   "source": [
    "df_m['cap_ratio_Solar'].unstack(level=0).plot(kind='line', subplots=False)"
   ]
  },
  {
   "cell_type": "code",
   "execution_count": 188,
   "metadata": {},
   "outputs": [],
   "source": [
    "df_m.index = df_m.index.set_levels([pd.to_datetime(df_m.index.levels[0],format=\"%Y\"), pd.to_datetime(df.index.levels[1],format = \"%b\")])\n",
    "y = df_m.index.get_level_values(0).year\n",
    "m = df_m.index.get_level_values(1).month\n",
    "\n",
    "df_m['Datetime'] = pd.to_datetime(y * 10000 + m * 100 + 1, format=\"%Y%m%d\")\n",
    "df_m.set_index('Datetime', append=True, inplace=True)"
   ]
  },
  {
   "cell_type": "code",
   "execution_count": 192,
   "metadata": {},
   "outputs": [],
   "source": [
    "df_m = df_m.droplevel(level = [0,1])"
   ]
  },
  {
   "cell_type": "code",
   "execution_count": 201,
   "metadata": {},
   "outputs": [],
   "source": [
    "df = pd.read_pickle('cap_price_monthlyES.p' )"
   ]
  },
  {
   "cell_type": "code",
   "execution_count": 203,
   "metadata": {},
   "outputs": [],
   "source": [
    "df.index = df.index.set_levels([pd.to_datetime(df.index.levels[0],format=\"%Y\"), pd.to_datetime(df.index.levels[1],format = \"%b\")])\n",
    "y = df.index.get_level_values(0).year\n",
    "m = df.index.get_level_values(1).month\n",
    "\n",
    "df['Datetime'] = pd.to_datetime(y * 10000 + m * 100 + 1, format=\"%Y%m%d\")\n",
    "df.set_index('Datetime', append=True, inplace=True)\n",
    "\n",
    "df = df.droplevel(level = [0,1])"
   ]
  },
  {
   "cell_type": "code",
   "execution_count": 205,
   "metadata": {},
   "outputs": [
    {
     "data": {
      "application/vnd.plotly.v1+json": {
       "config": {
        "plotlyServerURL": "https://plot.ly"
       },
       "data": [
        {
         "mode": "lines",
         "name": "Solar Cap Price",
         "type": "scatter",
         "x": [
          "2016-01-01T00:00:00",
          "2016-02-01T00:00:00",
          "2016-03-01T00:00:00",
          "2016-04-01T00:00:00",
          "2016-05-01T00:00:00",
          "2016-06-01T00:00:00",
          "2016-07-01T00:00:00",
          "2016-08-01T00:00:00",
          "2016-09-01T00:00:00",
          "2016-10-01T00:00:00",
          "2016-11-01T00:00:00",
          "2016-12-01T00:00:00",
          "2017-01-01T00:00:00",
          "2017-02-01T00:00:00",
          "2017-03-01T00:00:00",
          "2017-04-01T00:00:00",
          "2017-05-01T00:00:00",
          "2017-06-01T00:00:00",
          "2017-07-01T00:00:00",
          "2017-08-01T00:00:00",
          "2017-09-01T00:00:00",
          "2017-10-01T00:00:00",
          "2017-11-01T00:00:00",
          "2017-12-01T00:00:00",
          "2018-01-01T00:00:00",
          "2018-02-01T00:00:00",
          "2018-03-01T00:00:00",
          "2018-04-01T00:00:00",
          "2018-05-01T00:00:00",
          "2018-06-01T00:00:00",
          "2018-07-01T00:00:00",
          "2018-08-01T00:00:00",
          "2018-09-01T00:00:00",
          "2018-10-01T00:00:00",
          "2018-11-01T00:00:00",
          "2018-12-01T00:00:00",
          "2019-01-01T00:00:00",
          "2019-02-01T00:00:00",
          "2019-03-01T00:00:00",
          "2019-04-01T00:00:00",
          "2019-05-01T00:00:00",
          "2019-06-01T00:00:00",
          "2019-07-01T00:00:00",
          "2019-08-01T00:00:00",
          "2019-09-01T00:00:00",
          "2019-10-01T00:00:00",
          "2019-11-01T00:00:00",
          "2019-12-01T00:00:00",
          "2020-01-01T00:00:00",
          "2020-02-01T00:00:00",
          "2020-03-01T00:00:00",
          "2020-04-01T00:00:00",
          "2020-05-01T00:00:00",
          "2020-06-01T00:00:00",
          "2020-07-01T00:00:00",
          "2020-08-01T00:00:00",
          "2020-09-01T00:00:00",
          "2020-10-01T00:00:00",
          "2020-11-01T00:00:00",
          "2020-12-01T00:00:00",
          "2021-01-01T00:00:00",
          "2021-02-01T00:00:00"
         ],
         "y": [
          39.611685506630245,
          30.81078229600809,
          27.299268991448077,
          24.53815614361882,
          27.17714989213094,
          39.258440950440225,
          42.11068434695962,
          42.447973955616085,
          44.57267507900706,
          52.8469588697455,
          59.19451378336701,
          62.51806202439679,
          74.8224453909675,
          54.357541879242284,
          44.386242165592925,
          43.753891548127484,
          47.783103387727074,
          51.69068088613494,
          49.92019945865536,
          48.85563027815113,
          49.484704281882294,
          57.9189263121164,
          60.479438229886654,
          64.59803708216468,
          53.061937577938664,
          55.90651808792681,
          40.53889425806954,
          42.896434938012284,
          54.31025093178714,
          58.89519351233238,
          63.2121762753351,
          66.37702529190668,
          72.7044663182652,
          67.40973657074655,
          64.33389182187646,
          64.2965707135106,
          64.35606319910434,
          54.62726666298884,
          49.28482553049626,
          52.4376586434975,
          48.681464666720636,
          47.01191244543902,
          52.88385897277233,
          45.70956315644182,
          43.00246163758729,
          46.86230685428878,
          42.57670739686864,
          36.01280069040859,
          41.65844377313559,
          35.15119138643796,
          27.911194449224766,
          16.85690188269398,
          20.883446966756384,
          30.199842272125643,
          35.245820144611365,
          36.21069445186534,
          41.74354573594319,
          35.821127600524456,
          42.11601535340234,
          43.258602790658074,
          63.95021960494982,
          27.161730576359503
         ]
        },
        {
         "mode": "lines",
         "name": "Onshore Wind Cap Price",
         "type": "scatter",
         "x": [
          "2016-01-01T00:00:00",
          "2016-02-01T00:00:00",
          "2016-03-01T00:00:00",
          "2016-04-01T00:00:00",
          "2016-05-01T00:00:00",
          "2016-06-01T00:00:00",
          "2016-07-01T00:00:00",
          "2016-08-01T00:00:00",
          "2016-09-01T00:00:00",
          "2016-10-01T00:00:00",
          "2016-11-01T00:00:00",
          "2016-12-01T00:00:00",
          "2017-01-01T00:00:00",
          "2017-02-01T00:00:00",
          "2017-03-01T00:00:00",
          "2017-04-01T00:00:00",
          "2017-05-01T00:00:00",
          "2017-06-01T00:00:00",
          "2017-07-01T00:00:00",
          "2017-08-01T00:00:00",
          "2017-09-01T00:00:00",
          "2017-10-01T00:00:00",
          "2017-11-01T00:00:00",
          "2017-12-01T00:00:00",
          "2018-01-01T00:00:00",
          "2018-02-01T00:00:00",
          "2018-03-01T00:00:00",
          "2018-04-01T00:00:00",
          "2018-05-01T00:00:00",
          "2018-06-01T00:00:00",
          "2018-07-01T00:00:00",
          "2018-08-01T00:00:00",
          "2018-09-01T00:00:00",
          "2018-10-01T00:00:00",
          "2018-11-01T00:00:00",
          "2018-12-01T00:00:00",
          "2019-01-01T00:00:00",
          "2019-02-01T00:00:00",
          "2019-03-01T00:00:00",
          "2019-04-01T00:00:00",
          "2019-05-01T00:00:00",
          "2019-06-01T00:00:00",
          "2019-07-01T00:00:00",
          "2019-08-01T00:00:00",
          "2019-09-01T00:00:00",
          "2019-10-01T00:00:00",
          "2019-11-01T00:00:00",
          "2019-12-01T00:00:00",
          "2020-01-01T00:00:00",
          "2020-02-01T00:00:00",
          "2020-03-01T00:00:00",
          "2020-04-01T00:00:00",
          "2020-05-01T00:00:00",
          "2020-06-01T00:00:00",
          "2020-07-01T00:00:00",
          "2020-08-01T00:00:00",
          "2020-09-01T00:00:00",
          "2020-10-01T00:00:00",
          "2020-11-01T00:00:00",
          "2020-12-01T00:00:00",
          "2021-01-01T00:00:00",
          "2021-02-01T00:00:00"
         ],
         "y": [
          31.554963670699742,
          23.634014476375906,
          24.4050052492425,
          22.189451789416214,
          22.795790844295446,
          36.95110656253567,
          39.78649081239351,
          40.12565132186374,
          42.888864591427165,
          50.94654861966669,
          53.19594062412233,
          58.9601244966746,
          71.17739202372537,
          49.205804260518946,
          40.593700110556576,
          40.91364466428387,
          45.126605254930915,
          48.55208848246197,
          48.16912605286729,
          46.243145353226396,
          47.20197533452969,
          54.89051943341919,
          56.829500907849464,
          54.37030013305717,
          46.797323185653575,
          53.61329288827686,
          38.645153380308734,
          39.79333871670929,
          50.63121616622913,
          57.14106796210669,
          61.115291007955946,
          63.38436600149311,
          70.04578501652679,
          62.6278934177781,
          60.47319141575391,
          60.60051517602969,
          60.472359834574156,
          51.29386620294342,
          46.68559720559556,
          47.40786612529355,
          45.83327017350691,
          46.009535675955775,
          50.74188929547841,
          43.82633943059122,
          39.191710647900855,
          45.43022218505776,
          39.99903339577575,
          31.985448715805738,
          38.939013268156856,
          33.04912753978679,
          25.86465024850428,
          15.56349871453202,
          19.3064051910531,
          28.429749160869612,
          33.919984905740506,
          35.382785262122866,
          38.25532894662267,
          33.40023427689738,
          39.55299830648174,
          39.6366437748034,
          53.44738293879825,
          25.024775148042085
         ]
        },
        {
         "mode": "lines",
         "name": "Baseload",
         "type": "scatter",
         "x": [
          "2016-01-01T00:00:00",
          "2016-02-01T00:00:00",
          "2016-03-01T00:00:00",
          "2016-04-01T00:00:00",
          "2016-05-01T00:00:00",
          "2016-06-01T00:00:00",
          "2016-07-01T00:00:00",
          "2016-08-01T00:00:00",
          "2016-09-01T00:00:00",
          "2016-10-01T00:00:00",
          "2016-11-01T00:00:00",
          "2016-12-01T00:00:00",
          "2017-01-01T00:00:00",
          "2017-02-01T00:00:00",
          "2017-03-01T00:00:00",
          "2017-04-01T00:00:00",
          "2017-05-01T00:00:00",
          "2017-06-01T00:00:00",
          "2017-07-01T00:00:00",
          "2017-08-01T00:00:00",
          "2017-09-01T00:00:00",
          "2017-10-01T00:00:00",
          "2017-11-01T00:00:00",
          "2017-12-01T00:00:00",
          "2018-01-01T00:00:00",
          "2018-02-01T00:00:00",
          "2018-03-01T00:00:00",
          "2018-04-01T00:00:00",
          "2018-05-01T00:00:00",
          "2018-06-01T00:00:00",
          "2018-07-01T00:00:00",
          "2018-08-01T00:00:00",
          "2018-09-01T00:00:00",
          "2018-10-01T00:00:00",
          "2018-11-01T00:00:00",
          "2018-12-01T00:00:00",
          "2019-01-01T00:00:00",
          "2019-02-01T00:00:00",
          "2019-03-01T00:00:00",
          "2019-04-01T00:00:00",
          "2019-05-01T00:00:00",
          "2019-06-01T00:00:00",
          "2019-07-01T00:00:00",
          "2019-08-01T00:00:00",
          "2019-09-01T00:00:00",
          "2019-10-01T00:00:00",
          "2019-11-01T00:00:00",
          "2019-12-01T00:00:00",
          "2020-01-01T00:00:00",
          "2020-02-01T00:00:00",
          "2020-03-01T00:00:00",
          "2020-04-01T00:00:00",
          "2020-05-01T00:00:00",
          "2020-06-01T00:00:00",
          "2020-07-01T00:00:00",
          "2020-08-01T00:00:00",
          "2020-09-01T00:00:00",
          "2020-10-01T00:00:00",
          "2020-11-01T00:00:00",
          "2020-12-01T00:00:00",
          "2021-01-01T00:00:00",
          "2021-02-01T00:00:00"
         ],
         "y": [
          36.52810483870962,
          27.49900862068958,
          27.83327493261452,
          24.10948611111111,
          25.76564516129035,
          38.896861111110965,
          40.527392473118184,
          41.1553897849461,
          43.587555555555454,
          52.83518817204305,
          56.13138888888893,
          60.4855645161291,
          71.49075268817202,
          51.74028273809512,
          43.206778975741166,
          43.687680555555595,
          47.11145161290325,
          50.218624999999996,
          48.63424731182796,
          47.45809139784943,
          49.15193055555557,
          56.79415322580651,
          59.18869444444441,
          57.94047043010742,
          49.9793951612903,
          54.88218749999998,
          40.183908355795126,
          42.67159722222213,
          54.91556451612903,
          58.459694444444395,
          61.88239247311825,
          64.32759408602146,
          71.27356944444446,
          65.09829301075261,
          61.9705972222222,
          61.80754032258067,
          61.98647849462371,
          54.00864583333333,
          48.81886792452816,
          50.406861111111155,
          48.3885887096774,
          47.19354166666663,
          51.46396505376339,
          44.960766129032216,
          42.11372222222222,
          47.172876344085985,
          42.19211111111106,
          33.80489247311817,
          41.10139784946227,
          35.868692528735615,
          27.740026917900394,
          17.65295833333334,
          21.254905913978508,
          30.617749999999983,
          34.63600806451617,
          36.1980241935484,
          41.95708333333332,
          36.60717741935488,
          41.9361388888888,
          41.96526881720431,
          60.165322580645096,
          28.49275297619051
         ]
        }
       ],
       "layout": {
        "template": {
         "data": {
          "bar": [
           {
            "error_x": {
             "color": "#2a3f5f"
            },
            "error_y": {
             "color": "#2a3f5f"
            },
            "marker": {
             "line": {
              "color": "#E5ECF6",
              "width": 0.5
             }
            },
            "type": "bar"
           }
          ],
          "barpolar": [
           {
            "marker": {
             "line": {
              "color": "#E5ECF6",
              "width": 0.5
             }
            },
            "type": "barpolar"
           }
          ],
          "carpet": [
           {
            "aaxis": {
             "endlinecolor": "#2a3f5f",
             "gridcolor": "white",
             "linecolor": "white",
             "minorgridcolor": "white",
             "startlinecolor": "#2a3f5f"
            },
            "baxis": {
             "endlinecolor": "#2a3f5f",
             "gridcolor": "white",
             "linecolor": "white",
             "minorgridcolor": "white",
             "startlinecolor": "#2a3f5f"
            },
            "type": "carpet"
           }
          ],
          "choropleth": [
           {
            "colorbar": {
             "outlinewidth": 0,
             "ticks": ""
            },
            "type": "choropleth"
           }
          ],
          "contour": [
           {
            "colorbar": {
             "outlinewidth": 0,
             "ticks": ""
            },
            "colorscale": [
             [
              0,
              "#0d0887"
             ],
             [
              0.1111111111111111,
              "#46039f"
             ],
             [
              0.2222222222222222,
              "#7201a8"
             ],
             [
              0.3333333333333333,
              "#9c179e"
             ],
             [
              0.4444444444444444,
              "#bd3786"
             ],
             [
              0.5555555555555556,
              "#d8576b"
             ],
             [
              0.6666666666666666,
              "#ed7953"
             ],
             [
              0.7777777777777778,
              "#fb9f3a"
             ],
             [
              0.8888888888888888,
              "#fdca26"
             ],
             [
              1,
              "#f0f921"
             ]
            ],
            "type": "contour"
           }
          ],
          "contourcarpet": [
           {
            "colorbar": {
             "outlinewidth": 0,
             "ticks": ""
            },
            "type": "contourcarpet"
           }
          ],
          "heatmap": [
           {
            "colorbar": {
             "outlinewidth": 0,
             "ticks": ""
            },
            "colorscale": [
             [
              0,
              "#0d0887"
             ],
             [
              0.1111111111111111,
              "#46039f"
             ],
             [
              0.2222222222222222,
              "#7201a8"
             ],
             [
              0.3333333333333333,
              "#9c179e"
             ],
             [
              0.4444444444444444,
              "#bd3786"
             ],
             [
              0.5555555555555556,
              "#d8576b"
             ],
             [
              0.6666666666666666,
              "#ed7953"
             ],
             [
              0.7777777777777778,
              "#fb9f3a"
             ],
             [
              0.8888888888888888,
              "#fdca26"
             ],
             [
              1,
              "#f0f921"
             ]
            ],
            "type": "heatmap"
           }
          ],
          "heatmapgl": [
           {
            "colorbar": {
             "outlinewidth": 0,
             "ticks": ""
            },
            "colorscale": [
             [
              0,
              "#0d0887"
             ],
             [
              0.1111111111111111,
              "#46039f"
             ],
             [
              0.2222222222222222,
              "#7201a8"
             ],
             [
              0.3333333333333333,
              "#9c179e"
             ],
             [
              0.4444444444444444,
              "#bd3786"
             ],
             [
              0.5555555555555556,
              "#d8576b"
             ],
             [
              0.6666666666666666,
              "#ed7953"
             ],
             [
              0.7777777777777778,
              "#fb9f3a"
             ],
             [
              0.8888888888888888,
              "#fdca26"
             ],
             [
              1,
              "#f0f921"
             ]
            ],
            "type": "heatmapgl"
           }
          ],
          "histogram": [
           {
            "marker": {
             "colorbar": {
              "outlinewidth": 0,
              "ticks": ""
             }
            },
            "type": "histogram"
           }
          ],
          "histogram2d": [
           {
            "colorbar": {
             "outlinewidth": 0,
             "ticks": ""
            },
            "colorscale": [
             [
              0,
              "#0d0887"
             ],
             [
              0.1111111111111111,
              "#46039f"
             ],
             [
              0.2222222222222222,
              "#7201a8"
             ],
             [
              0.3333333333333333,
              "#9c179e"
             ],
             [
              0.4444444444444444,
              "#bd3786"
             ],
             [
              0.5555555555555556,
              "#d8576b"
             ],
             [
              0.6666666666666666,
              "#ed7953"
             ],
             [
              0.7777777777777778,
              "#fb9f3a"
             ],
             [
              0.8888888888888888,
              "#fdca26"
             ],
             [
              1,
              "#f0f921"
             ]
            ],
            "type": "histogram2d"
           }
          ],
          "histogram2dcontour": [
           {
            "colorbar": {
             "outlinewidth": 0,
             "ticks": ""
            },
            "colorscale": [
             [
              0,
              "#0d0887"
             ],
             [
              0.1111111111111111,
              "#46039f"
             ],
             [
              0.2222222222222222,
              "#7201a8"
             ],
             [
              0.3333333333333333,
              "#9c179e"
             ],
             [
              0.4444444444444444,
              "#bd3786"
             ],
             [
              0.5555555555555556,
              "#d8576b"
             ],
             [
              0.6666666666666666,
              "#ed7953"
             ],
             [
              0.7777777777777778,
              "#fb9f3a"
             ],
             [
              0.8888888888888888,
              "#fdca26"
             ],
             [
              1,
              "#f0f921"
             ]
            ],
            "type": "histogram2dcontour"
           }
          ],
          "mesh3d": [
           {
            "colorbar": {
             "outlinewidth": 0,
             "ticks": ""
            },
            "type": "mesh3d"
           }
          ],
          "parcoords": [
           {
            "line": {
             "colorbar": {
              "outlinewidth": 0,
              "ticks": ""
             }
            },
            "type": "parcoords"
           }
          ],
          "pie": [
           {
            "automargin": true,
            "type": "pie"
           }
          ],
          "scatter": [
           {
            "marker": {
             "colorbar": {
              "outlinewidth": 0,
              "ticks": ""
             }
            },
            "type": "scatter"
           }
          ],
          "scatter3d": [
           {
            "line": {
             "colorbar": {
              "outlinewidth": 0,
              "ticks": ""
             }
            },
            "marker": {
             "colorbar": {
              "outlinewidth": 0,
              "ticks": ""
             }
            },
            "type": "scatter3d"
           }
          ],
          "scattercarpet": [
           {
            "marker": {
             "colorbar": {
              "outlinewidth": 0,
              "ticks": ""
             }
            },
            "type": "scattercarpet"
           }
          ],
          "scattergeo": [
           {
            "marker": {
             "colorbar": {
              "outlinewidth": 0,
              "ticks": ""
             }
            },
            "type": "scattergeo"
           }
          ],
          "scattergl": [
           {
            "marker": {
             "colorbar": {
              "outlinewidth": 0,
              "ticks": ""
             }
            },
            "type": "scattergl"
           }
          ],
          "scattermapbox": [
           {
            "marker": {
             "colorbar": {
              "outlinewidth": 0,
              "ticks": ""
             }
            },
            "type": "scattermapbox"
           }
          ],
          "scatterpolar": [
           {
            "marker": {
             "colorbar": {
              "outlinewidth": 0,
              "ticks": ""
             }
            },
            "type": "scatterpolar"
           }
          ],
          "scatterpolargl": [
           {
            "marker": {
             "colorbar": {
              "outlinewidth": 0,
              "ticks": ""
             }
            },
            "type": "scatterpolargl"
           }
          ],
          "scatterternary": [
           {
            "marker": {
             "colorbar": {
              "outlinewidth": 0,
              "ticks": ""
             }
            },
            "type": "scatterternary"
           }
          ],
          "surface": [
           {
            "colorbar": {
             "outlinewidth": 0,
             "ticks": ""
            },
            "colorscale": [
             [
              0,
              "#0d0887"
             ],
             [
              0.1111111111111111,
              "#46039f"
             ],
             [
              0.2222222222222222,
              "#7201a8"
             ],
             [
              0.3333333333333333,
              "#9c179e"
             ],
             [
              0.4444444444444444,
              "#bd3786"
             ],
             [
              0.5555555555555556,
              "#d8576b"
             ],
             [
              0.6666666666666666,
              "#ed7953"
             ],
             [
              0.7777777777777778,
              "#fb9f3a"
             ],
             [
              0.8888888888888888,
              "#fdca26"
             ],
             [
              1,
              "#f0f921"
             ]
            ],
            "type": "surface"
           }
          ],
          "table": [
           {
            "cells": {
             "fill": {
              "color": "#EBF0F8"
             },
             "line": {
              "color": "white"
             }
            },
            "header": {
             "fill": {
              "color": "#C8D4E3"
             },
             "line": {
              "color": "white"
             }
            },
            "type": "table"
           }
          ]
         },
         "layout": {
          "annotationdefaults": {
           "arrowcolor": "#2a3f5f",
           "arrowhead": 0,
           "arrowwidth": 1
          },
          "coloraxis": {
           "colorbar": {
            "outlinewidth": 0,
            "ticks": ""
           }
          },
          "colorscale": {
           "diverging": [
            [
             0,
             "#8e0152"
            ],
            [
             0.1,
             "#c51b7d"
            ],
            [
             0.2,
             "#de77ae"
            ],
            [
             0.3,
             "#f1b6da"
            ],
            [
             0.4,
             "#fde0ef"
            ],
            [
             0.5,
             "#f7f7f7"
            ],
            [
             0.6,
             "#e6f5d0"
            ],
            [
             0.7,
             "#b8e186"
            ],
            [
             0.8,
             "#7fbc41"
            ],
            [
             0.9,
             "#4d9221"
            ],
            [
             1,
             "#276419"
            ]
           ],
           "sequential": [
            [
             0,
             "#0d0887"
            ],
            [
             0.1111111111111111,
             "#46039f"
            ],
            [
             0.2222222222222222,
             "#7201a8"
            ],
            [
             0.3333333333333333,
             "#9c179e"
            ],
            [
             0.4444444444444444,
             "#bd3786"
            ],
            [
             0.5555555555555556,
             "#d8576b"
            ],
            [
             0.6666666666666666,
             "#ed7953"
            ],
            [
             0.7777777777777778,
             "#fb9f3a"
            ],
            [
             0.8888888888888888,
             "#fdca26"
            ],
            [
             1,
             "#f0f921"
            ]
           ],
           "sequentialminus": [
            [
             0,
             "#0d0887"
            ],
            [
             0.1111111111111111,
             "#46039f"
            ],
            [
             0.2222222222222222,
             "#7201a8"
            ],
            [
             0.3333333333333333,
             "#9c179e"
            ],
            [
             0.4444444444444444,
             "#bd3786"
            ],
            [
             0.5555555555555556,
             "#d8576b"
            ],
            [
             0.6666666666666666,
             "#ed7953"
            ],
            [
             0.7777777777777778,
             "#fb9f3a"
            ],
            [
             0.8888888888888888,
             "#fdca26"
            ],
            [
             1,
             "#f0f921"
            ]
           ]
          },
          "colorway": [
           "#636efa",
           "#EF553B",
           "#00cc96",
           "#ab63fa",
           "#FFA15A",
           "#19d3f3",
           "#FF6692",
           "#B6E880",
           "#FF97FF",
           "#FECB52"
          ],
          "font": {
           "color": "#2a3f5f"
          },
          "geo": {
           "bgcolor": "white",
           "lakecolor": "white",
           "landcolor": "#E5ECF6",
           "showlakes": true,
           "showland": true,
           "subunitcolor": "white"
          },
          "hoverlabel": {
           "align": "left"
          },
          "hovermode": "closest",
          "mapbox": {
           "style": "light"
          },
          "paper_bgcolor": "white",
          "plot_bgcolor": "#E5ECF6",
          "polar": {
           "angularaxis": {
            "gridcolor": "white",
            "linecolor": "white",
            "ticks": ""
           },
           "bgcolor": "#E5ECF6",
           "radialaxis": {
            "gridcolor": "white",
            "linecolor": "white",
            "ticks": ""
           }
          },
          "scene": {
           "xaxis": {
            "backgroundcolor": "#E5ECF6",
            "gridcolor": "white",
            "gridwidth": 2,
            "linecolor": "white",
            "showbackground": true,
            "ticks": "",
            "zerolinecolor": "white"
           },
           "yaxis": {
            "backgroundcolor": "#E5ECF6",
            "gridcolor": "white",
            "gridwidth": 2,
            "linecolor": "white",
            "showbackground": true,
            "ticks": "",
            "zerolinecolor": "white"
           },
           "zaxis": {
            "backgroundcolor": "#E5ECF6",
            "gridcolor": "white",
            "gridwidth": 2,
            "linecolor": "white",
            "showbackground": true,
            "ticks": "",
            "zerolinecolor": "white"
           }
          },
          "shapedefaults": {
           "line": {
            "color": "#2a3f5f"
           }
          },
          "ternary": {
           "aaxis": {
            "gridcolor": "white",
            "linecolor": "white",
            "ticks": ""
           },
           "baxis": {
            "gridcolor": "white",
            "linecolor": "white",
            "ticks": ""
           },
           "bgcolor": "#E5ECF6",
           "caxis": {
            "gridcolor": "white",
            "linecolor": "white",
            "ticks": ""
           }
          },
          "title": {
           "x": 0.05
          },
          "xaxis": {
           "automargin": true,
           "gridcolor": "white",
           "linecolor": "white",
           "ticks": "",
           "title": {
            "standoff": 15
           },
           "zerolinecolor": "white",
           "zerolinewidth": 2
          },
          "yaxis": {
           "automargin": true,
           "gridcolor": "white",
           "linecolor": "white",
           "ticks": "",
           "title": {
            "standoff": 15
           },
           "zerolinecolor": "white",
           "zerolinewidth": 2
          }
         }
        },
        "title": {
         "text": "Capture Price Evolution - ES"
        },
        "yaxis": {
         "title": {
          "text": "€/MWh"
         }
        }
       }
      },
      "text/html": [
       "<div>\n",
       "        \n",
       "        \n",
       "            <div id=\"d105cae6-bae9-48bb-a6e8-4da03cee511d\" class=\"plotly-graph-div\" style=\"height:525px; width:100%;\"></div>\n",
       "            <script type=\"text/javascript\">\n",
       "                require([\"plotly\"], function(Plotly) {\n",
       "                    window.PLOTLYENV=window.PLOTLYENV || {};\n",
       "                    \n",
       "                if (document.getElementById(\"d105cae6-bae9-48bb-a6e8-4da03cee511d\")) {\n",
       "                    Plotly.newPlot(\n",
       "                        'd105cae6-bae9-48bb-a6e8-4da03cee511d',\n",
       "                        [{\"mode\": \"lines\", \"name\": \"Solar Cap Price\", \"type\": \"scatter\", \"x\": [\"2016-01-01T00:00:00\", \"2016-02-01T00:00:00\", \"2016-03-01T00:00:00\", \"2016-04-01T00:00:00\", \"2016-05-01T00:00:00\", \"2016-06-01T00:00:00\", \"2016-07-01T00:00:00\", \"2016-08-01T00:00:00\", \"2016-09-01T00:00:00\", \"2016-10-01T00:00:00\", \"2016-11-01T00:00:00\", \"2016-12-01T00:00:00\", \"2017-01-01T00:00:00\", \"2017-02-01T00:00:00\", \"2017-03-01T00:00:00\", \"2017-04-01T00:00:00\", \"2017-05-01T00:00:00\", \"2017-06-01T00:00:00\", \"2017-07-01T00:00:00\", \"2017-08-01T00:00:00\", \"2017-09-01T00:00:00\", \"2017-10-01T00:00:00\", \"2017-11-01T00:00:00\", \"2017-12-01T00:00:00\", \"2018-01-01T00:00:00\", \"2018-02-01T00:00:00\", \"2018-03-01T00:00:00\", \"2018-04-01T00:00:00\", \"2018-05-01T00:00:00\", \"2018-06-01T00:00:00\", \"2018-07-01T00:00:00\", \"2018-08-01T00:00:00\", \"2018-09-01T00:00:00\", \"2018-10-01T00:00:00\", \"2018-11-01T00:00:00\", \"2018-12-01T00:00:00\", \"2019-01-01T00:00:00\", \"2019-02-01T00:00:00\", \"2019-03-01T00:00:00\", \"2019-04-01T00:00:00\", \"2019-05-01T00:00:00\", \"2019-06-01T00:00:00\", \"2019-07-01T00:00:00\", \"2019-08-01T00:00:00\", \"2019-09-01T00:00:00\", \"2019-10-01T00:00:00\", \"2019-11-01T00:00:00\", \"2019-12-01T00:00:00\", \"2020-01-01T00:00:00\", \"2020-02-01T00:00:00\", \"2020-03-01T00:00:00\", \"2020-04-01T00:00:00\", \"2020-05-01T00:00:00\", \"2020-06-01T00:00:00\", \"2020-07-01T00:00:00\", \"2020-08-01T00:00:00\", \"2020-09-01T00:00:00\", \"2020-10-01T00:00:00\", \"2020-11-01T00:00:00\", \"2020-12-01T00:00:00\", \"2021-01-01T00:00:00\", \"2021-02-01T00:00:00\"], \"y\": [39.611685506630245, 30.81078229600809, 27.299268991448077, 24.53815614361882, 27.17714989213094, 39.258440950440225, 42.11068434695962, 42.447973955616085, 44.57267507900706, 52.8469588697455, 59.19451378336701, 62.51806202439679, 74.8224453909675, 54.357541879242284, 44.386242165592925, 43.753891548127484, 47.783103387727074, 51.69068088613494, 49.92019945865536, 48.85563027815113, 49.484704281882294, 57.9189263121164, 60.479438229886654, 64.59803708216468, 53.061937577938664, 55.90651808792681, 40.53889425806954, 42.896434938012284, 54.31025093178714, 58.89519351233238, 63.2121762753351, 66.37702529190668, 72.7044663182652, 67.40973657074655, 64.33389182187646, 64.2965707135106, 64.35606319910434, 54.62726666298884, 49.28482553049626, 52.4376586434975, 48.681464666720636, 47.01191244543902, 52.88385897277233, 45.70956315644182, 43.00246163758729, 46.86230685428878, 42.57670739686864, 36.01280069040859, 41.65844377313559, 35.15119138643796, 27.911194449224766, 16.85690188269398, 20.883446966756384, 30.199842272125643, 35.245820144611365, 36.21069445186534, 41.74354573594319, 35.821127600524456, 42.11601535340234, 43.258602790658074, 63.95021960494982, 27.161730576359503]}, {\"mode\": \"lines\", \"name\": \"Onshore Wind Cap Price\", \"type\": \"scatter\", \"x\": [\"2016-01-01T00:00:00\", \"2016-02-01T00:00:00\", \"2016-03-01T00:00:00\", \"2016-04-01T00:00:00\", \"2016-05-01T00:00:00\", \"2016-06-01T00:00:00\", \"2016-07-01T00:00:00\", \"2016-08-01T00:00:00\", \"2016-09-01T00:00:00\", \"2016-10-01T00:00:00\", \"2016-11-01T00:00:00\", \"2016-12-01T00:00:00\", \"2017-01-01T00:00:00\", \"2017-02-01T00:00:00\", \"2017-03-01T00:00:00\", \"2017-04-01T00:00:00\", \"2017-05-01T00:00:00\", \"2017-06-01T00:00:00\", \"2017-07-01T00:00:00\", \"2017-08-01T00:00:00\", \"2017-09-01T00:00:00\", \"2017-10-01T00:00:00\", \"2017-11-01T00:00:00\", \"2017-12-01T00:00:00\", \"2018-01-01T00:00:00\", \"2018-02-01T00:00:00\", \"2018-03-01T00:00:00\", \"2018-04-01T00:00:00\", \"2018-05-01T00:00:00\", \"2018-06-01T00:00:00\", \"2018-07-01T00:00:00\", \"2018-08-01T00:00:00\", \"2018-09-01T00:00:00\", \"2018-10-01T00:00:00\", \"2018-11-01T00:00:00\", \"2018-12-01T00:00:00\", \"2019-01-01T00:00:00\", \"2019-02-01T00:00:00\", \"2019-03-01T00:00:00\", \"2019-04-01T00:00:00\", \"2019-05-01T00:00:00\", \"2019-06-01T00:00:00\", \"2019-07-01T00:00:00\", \"2019-08-01T00:00:00\", \"2019-09-01T00:00:00\", \"2019-10-01T00:00:00\", \"2019-11-01T00:00:00\", \"2019-12-01T00:00:00\", \"2020-01-01T00:00:00\", \"2020-02-01T00:00:00\", \"2020-03-01T00:00:00\", \"2020-04-01T00:00:00\", \"2020-05-01T00:00:00\", \"2020-06-01T00:00:00\", \"2020-07-01T00:00:00\", \"2020-08-01T00:00:00\", \"2020-09-01T00:00:00\", \"2020-10-01T00:00:00\", \"2020-11-01T00:00:00\", \"2020-12-01T00:00:00\", \"2021-01-01T00:00:00\", \"2021-02-01T00:00:00\"], \"y\": [31.554963670699742, 23.634014476375906, 24.4050052492425, 22.189451789416214, 22.795790844295446, 36.95110656253567, 39.78649081239351, 40.12565132186374, 42.888864591427165, 50.94654861966669, 53.19594062412233, 58.9601244966746, 71.17739202372537, 49.205804260518946, 40.593700110556576, 40.91364466428387, 45.126605254930915, 48.55208848246197, 48.16912605286729, 46.243145353226396, 47.20197533452969, 54.89051943341919, 56.829500907849464, 54.37030013305717, 46.797323185653575, 53.61329288827686, 38.645153380308734, 39.79333871670929, 50.63121616622913, 57.14106796210669, 61.115291007955946, 63.38436600149311, 70.04578501652679, 62.6278934177781, 60.47319141575391, 60.60051517602969, 60.472359834574156, 51.29386620294342, 46.68559720559556, 47.40786612529355, 45.83327017350691, 46.009535675955775, 50.74188929547841, 43.82633943059122, 39.191710647900855, 45.43022218505776, 39.99903339577575, 31.985448715805738, 38.939013268156856, 33.04912753978679, 25.86465024850428, 15.56349871453202, 19.3064051910531, 28.429749160869612, 33.919984905740506, 35.382785262122866, 38.25532894662267, 33.40023427689738, 39.55299830648174, 39.6366437748034, 53.44738293879825, 25.024775148042085]}, {\"mode\": \"lines\", \"name\": \"Baseload\", \"type\": \"scatter\", \"x\": [\"2016-01-01T00:00:00\", \"2016-02-01T00:00:00\", \"2016-03-01T00:00:00\", \"2016-04-01T00:00:00\", \"2016-05-01T00:00:00\", \"2016-06-01T00:00:00\", \"2016-07-01T00:00:00\", \"2016-08-01T00:00:00\", \"2016-09-01T00:00:00\", \"2016-10-01T00:00:00\", \"2016-11-01T00:00:00\", \"2016-12-01T00:00:00\", \"2017-01-01T00:00:00\", \"2017-02-01T00:00:00\", \"2017-03-01T00:00:00\", \"2017-04-01T00:00:00\", \"2017-05-01T00:00:00\", \"2017-06-01T00:00:00\", \"2017-07-01T00:00:00\", \"2017-08-01T00:00:00\", \"2017-09-01T00:00:00\", \"2017-10-01T00:00:00\", \"2017-11-01T00:00:00\", \"2017-12-01T00:00:00\", \"2018-01-01T00:00:00\", \"2018-02-01T00:00:00\", \"2018-03-01T00:00:00\", \"2018-04-01T00:00:00\", \"2018-05-01T00:00:00\", \"2018-06-01T00:00:00\", \"2018-07-01T00:00:00\", \"2018-08-01T00:00:00\", \"2018-09-01T00:00:00\", \"2018-10-01T00:00:00\", \"2018-11-01T00:00:00\", \"2018-12-01T00:00:00\", \"2019-01-01T00:00:00\", \"2019-02-01T00:00:00\", \"2019-03-01T00:00:00\", \"2019-04-01T00:00:00\", \"2019-05-01T00:00:00\", \"2019-06-01T00:00:00\", \"2019-07-01T00:00:00\", \"2019-08-01T00:00:00\", \"2019-09-01T00:00:00\", \"2019-10-01T00:00:00\", \"2019-11-01T00:00:00\", \"2019-12-01T00:00:00\", \"2020-01-01T00:00:00\", \"2020-02-01T00:00:00\", \"2020-03-01T00:00:00\", \"2020-04-01T00:00:00\", \"2020-05-01T00:00:00\", \"2020-06-01T00:00:00\", \"2020-07-01T00:00:00\", \"2020-08-01T00:00:00\", \"2020-09-01T00:00:00\", \"2020-10-01T00:00:00\", \"2020-11-01T00:00:00\", \"2020-12-01T00:00:00\", \"2021-01-01T00:00:00\", \"2021-02-01T00:00:00\"], \"y\": [36.52810483870962, 27.49900862068958, 27.83327493261452, 24.10948611111111, 25.76564516129035, 38.896861111110965, 40.527392473118184, 41.1553897849461, 43.587555555555454, 52.83518817204305, 56.13138888888893, 60.4855645161291, 71.49075268817202, 51.74028273809512, 43.206778975741166, 43.687680555555595, 47.11145161290325, 50.218624999999996, 48.63424731182796, 47.45809139784943, 49.15193055555557, 56.79415322580651, 59.18869444444441, 57.94047043010742, 49.9793951612903, 54.88218749999998, 40.183908355795126, 42.67159722222213, 54.91556451612903, 58.459694444444395, 61.88239247311825, 64.32759408602146, 71.27356944444446, 65.09829301075261, 61.9705972222222, 61.80754032258067, 61.98647849462371, 54.00864583333333, 48.81886792452816, 50.406861111111155, 48.3885887096774, 47.19354166666663, 51.46396505376339, 44.960766129032216, 42.11372222222222, 47.172876344085985, 42.19211111111106, 33.80489247311817, 41.10139784946227, 35.868692528735615, 27.740026917900394, 17.65295833333334, 21.254905913978508, 30.617749999999983, 34.63600806451617, 36.1980241935484, 41.95708333333332, 36.60717741935488, 41.9361388888888, 41.96526881720431, 60.165322580645096, 28.49275297619051]}],\n",
       "                        {\"template\": {\"data\": {\"bar\": [{\"error_x\": {\"color\": \"#2a3f5f\"}, \"error_y\": {\"color\": \"#2a3f5f\"}, \"marker\": {\"line\": {\"color\": \"#E5ECF6\", \"width\": 0.5}}, \"type\": \"bar\"}], \"barpolar\": [{\"marker\": {\"line\": {\"color\": \"#E5ECF6\", \"width\": 0.5}}, \"type\": \"barpolar\"}], \"carpet\": [{\"aaxis\": {\"endlinecolor\": \"#2a3f5f\", \"gridcolor\": \"white\", \"linecolor\": \"white\", \"minorgridcolor\": \"white\", \"startlinecolor\": \"#2a3f5f\"}, \"baxis\": {\"endlinecolor\": \"#2a3f5f\", \"gridcolor\": \"white\", \"linecolor\": \"white\", \"minorgridcolor\": \"white\", \"startlinecolor\": \"#2a3f5f\"}, \"type\": \"carpet\"}], \"choropleth\": [{\"colorbar\": {\"outlinewidth\": 0, \"ticks\": \"\"}, \"type\": \"choropleth\"}], \"contour\": [{\"colorbar\": {\"outlinewidth\": 0, \"ticks\": \"\"}, \"colorscale\": [[0.0, \"#0d0887\"], [0.1111111111111111, \"#46039f\"], [0.2222222222222222, \"#7201a8\"], [0.3333333333333333, \"#9c179e\"], [0.4444444444444444, \"#bd3786\"], [0.5555555555555556, \"#d8576b\"], [0.6666666666666666, \"#ed7953\"], [0.7777777777777778, \"#fb9f3a\"], [0.8888888888888888, \"#fdca26\"], [1.0, \"#f0f921\"]], \"type\": \"contour\"}], \"contourcarpet\": [{\"colorbar\": {\"outlinewidth\": 0, \"ticks\": \"\"}, \"type\": \"contourcarpet\"}], \"heatmap\": [{\"colorbar\": {\"outlinewidth\": 0, \"ticks\": \"\"}, \"colorscale\": [[0.0, \"#0d0887\"], [0.1111111111111111, \"#46039f\"], [0.2222222222222222, \"#7201a8\"], [0.3333333333333333, \"#9c179e\"], [0.4444444444444444, \"#bd3786\"], [0.5555555555555556, \"#d8576b\"], [0.6666666666666666, \"#ed7953\"], [0.7777777777777778, \"#fb9f3a\"], [0.8888888888888888, \"#fdca26\"], [1.0, \"#f0f921\"]], \"type\": \"heatmap\"}], \"heatmapgl\": [{\"colorbar\": {\"outlinewidth\": 0, \"ticks\": \"\"}, \"colorscale\": [[0.0, \"#0d0887\"], [0.1111111111111111, \"#46039f\"], [0.2222222222222222, \"#7201a8\"], [0.3333333333333333, \"#9c179e\"], [0.4444444444444444, \"#bd3786\"], [0.5555555555555556, \"#d8576b\"], [0.6666666666666666, \"#ed7953\"], [0.7777777777777778, \"#fb9f3a\"], [0.8888888888888888, \"#fdca26\"], [1.0, \"#f0f921\"]], \"type\": \"heatmapgl\"}], \"histogram\": [{\"marker\": {\"colorbar\": {\"outlinewidth\": 0, \"ticks\": \"\"}}, \"type\": \"histogram\"}], \"histogram2d\": [{\"colorbar\": {\"outlinewidth\": 0, \"ticks\": \"\"}, \"colorscale\": [[0.0, \"#0d0887\"], [0.1111111111111111, \"#46039f\"], [0.2222222222222222, \"#7201a8\"], [0.3333333333333333, \"#9c179e\"], [0.4444444444444444, \"#bd3786\"], [0.5555555555555556, \"#d8576b\"], [0.6666666666666666, \"#ed7953\"], [0.7777777777777778, \"#fb9f3a\"], [0.8888888888888888, \"#fdca26\"], [1.0, \"#f0f921\"]], \"type\": \"histogram2d\"}], \"histogram2dcontour\": [{\"colorbar\": {\"outlinewidth\": 0, \"ticks\": \"\"}, \"colorscale\": [[0.0, \"#0d0887\"], [0.1111111111111111, \"#46039f\"], [0.2222222222222222, \"#7201a8\"], [0.3333333333333333, \"#9c179e\"], [0.4444444444444444, \"#bd3786\"], [0.5555555555555556, \"#d8576b\"], [0.6666666666666666, \"#ed7953\"], [0.7777777777777778, \"#fb9f3a\"], [0.8888888888888888, \"#fdca26\"], [1.0, \"#f0f921\"]], \"type\": \"histogram2dcontour\"}], \"mesh3d\": [{\"colorbar\": {\"outlinewidth\": 0, \"ticks\": \"\"}, \"type\": \"mesh3d\"}], \"parcoords\": [{\"line\": {\"colorbar\": {\"outlinewidth\": 0, \"ticks\": \"\"}}, \"type\": \"parcoords\"}], \"pie\": [{\"automargin\": true, \"type\": \"pie\"}], \"scatter\": [{\"marker\": {\"colorbar\": {\"outlinewidth\": 0, \"ticks\": \"\"}}, \"type\": \"scatter\"}], \"scatter3d\": [{\"line\": {\"colorbar\": {\"outlinewidth\": 0, \"ticks\": \"\"}}, \"marker\": {\"colorbar\": {\"outlinewidth\": 0, \"ticks\": \"\"}}, \"type\": \"scatter3d\"}], \"scattercarpet\": [{\"marker\": {\"colorbar\": {\"outlinewidth\": 0, \"ticks\": \"\"}}, \"type\": \"scattercarpet\"}], \"scattergeo\": [{\"marker\": {\"colorbar\": {\"outlinewidth\": 0, \"ticks\": \"\"}}, \"type\": \"scattergeo\"}], \"scattergl\": [{\"marker\": {\"colorbar\": {\"outlinewidth\": 0, \"ticks\": \"\"}}, \"type\": \"scattergl\"}], \"scattermapbox\": [{\"marker\": {\"colorbar\": {\"outlinewidth\": 0, \"ticks\": \"\"}}, \"type\": \"scattermapbox\"}], \"scatterpolar\": [{\"marker\": {\"colorbar\": {\"outlinewidth\": 0, \"ticks\": \"\"}}, \"type\": \"scatterpolar\"}], \"scatterpolargl\": [{\"marker\": {\"colorbar\": {\"outlinewidth\": 0, \"ticks\": \"\"}}, \"type\": \"scatterpolargl\"}], \"scatterternary\": [{\"marker\": {\"colorbar\": {\"outlinewidth\": 0, \"ticks\": \"\"}}, \"type\": \"scatterternary\"}], \"surface\": [{\"colorbar\": {\"outlinewidth\": 0, \"ticks\": \"\"}, \"colorscale\": [[0.0, \"#0d0887\"], [0.1111111111111111, \"#46039f\"], [0.2222222222222222, \"#7201a8\"], [0.3333333333333333, \"#9c179e\"], [0.4444444444444444, \"#bd3786\"], [0.5555555555555556, \"#d8576b\"], [0.6666666666666666, \"#ed7953\"], [0.7777777777777778, \"#fb9f3a\"], [0.8888888888888888, \"#fdca26\"], [1.0, \"#f0f921\"]], \"type\": \"surface\"}], \"table\": [{\"cells\": {\"fill\": {\"color\": \"#EBF0F8\"}, \"line\": {\"color\": \"white\"}}, \"header\": {\"fill\": {\"color\": \"#C8D4E3\"}, \"line\": {\"color\": \"white\"}}, \"type\": \"table\"}]}, \"layout\": {\"annotationdefaults\": {\"arrowcolor\": \"#2a3f5f\", \"arrowhead\": 0, \"arrowwidth\": 1}, \"coloraxis\": {\"colorbar\": {\"outlinewidth\": 0, \"ticks\": \"\"}}, \"colorscale\": {\"diverging\": [[0, \"#8e0152\"], [0.1, \"#c51b7d\"], [0.2, \"#de77ae\"], [0.3, \"#f1b6da\"], [0.4, \"#fde0ef\"], [0.5, \"#f7f7f7\"], [0.6, \"#e6f5d0\"], [0.7, \"#b8e186\"], [0.8, \"#7fbc41\"], [0.9, \"#4d9221\"], [1, \"#276419\"]], \"sequential\": [[0.0, \"#0d0887\"], [0.1111111111111111, \"#46039f\"], [0.2222222222222222, \"#7201a8\"], [0.3333333333333333, \"#9c179e\"], [0.4444444444444444, \"#bd3786\"], [0.5555555555555556, \"#d8576b\"], [0.6666666666666666, \"#ed7953\"], [0.7777777777777778, \"#fb9f3a\"], [0.8888888888888888, \"#fdca26\"], [1.0, \"#f0f921\"]], \"sequentialminus\": [[0.0, \"#0d0887\"], [0.1111111111111111, \"#46039f\"], [0.2222222222222222, \"#7201a8\"], [0.3333333333333333, \"#9c179e\"], [0.4444444444444444, \"#bd3786\"], [0.5555555555555556, \"#d8576b\"], [0.6666666666666666, \"#ed7953\"], [0.7777777777777778, \"#fb9f3a\"], [0.8888888888888888, \"#fdca26\"], [1.0, \"#f0f921\"]]}, \"colorway\": [\"#636efa\", \"#EF553B\", \"#00cc96\", \"#ab63fa\", \"#FFA15A\", \"#19d3f3\", \"#FF6692\", \"#B6E880\", \"#FF97FF\", \"#FECB52\"], \"font\": {\"color\": \"#2a3f5f\"}, \"geo\": {\"bgcolor\": \"white\", \"lakecolor\": \"white\", \"landcolor\": \"#E5ECF6\", \"showlakes\": true, \"showland\": true, \"subunitcolor\": \"white\"}, \"hoverlabel\": {\"align\": \"left\"}, \"hovermode\": \"closest\", \"mapbox\": {\"style\": \"light\"}, \"paper_bgcolor\": \"white\", \"plot_bgcolor\": \"#E5ECF6\", \"polar\": {\"angularaxis\": {\"gridcolor\": \"white\", \"linecolor\": \"white\", \"ticks\": \"\"}, \"bgcolor\": \"#E5ECF6\", \"radialaxis\": {\"gridcolor\": \"white\", \"linecolor\": \"white\", \"ticks\": \"\"}}, \"scene\": {\"xaxis\": {\"backgroundcolor\": \"#E5ECF6\", \"gridcolor\": \"white\", \"gridwidth\": 2, \"linecolor\": \"white\", \"showbackground\": true, \"ticks\": \"\", \"zerolinecolor\": \"white\"}, \"yaxis\": {\"backgroundcolor\": \"#E5ECF6\", \"gridcolor\": \"white\", \"gridwidth\": 2, \"linecolor\": \"white\", \"showbackground\": true, \"ticks\": \"\", \"zerolinecolor\": \"white\"}, \"zaxis\": {\"backgroundcolor\": \"#E5ECF6\", \"gridcolor\": \"white\", \"gridwidth\": 2, \"linecolor\": \"white\", \"showbackground\": true, \"ticks\": \"\", \"zerolinecolor\": \"white\"}}, \"shapedefaults\": {\"line\": {\"color\": \"#2a3f5f\"}}, \"ternary\": {\"aaxis\": {\"gridcolor\": \"white\", \"linecolor\": \"white\", \"ticks\": \"\"}, \"baxis\": {\"gridcolor\": \"white\", \"linecolor\": \"white\", \"ticks\": \"\"}, \"bgcolor\": \"#E5ECF6\", \"caxis\": {\"gridcolor\": \"white\", \"linecolor\": \"white\", \"ticks\": \"\"}}, \"title\": {\"x\": 0.05}, \"xaxis\": {\"automargin\": true, \"gridcolor\": \"white\", \"linecolor\": \"white\", \"ticks\": \"\", \"title\": {\"standoff\": 15}, \"zerolinecolor\": \"white\", \"zerolinewidth\": 2}, \"yaxis\": {\"automargin\": true, \"gridcolor\": \"white\", \"linecolor\": \"white\", \"ticks\": \"\", \"title\": {\"standoff\": 15}, \"zerolinecolor\": \"white\", \"zerolinewidth\": 2}}}, \"title\": {\"text\": \"Capture Price Evolution - ES\"}, \"yaxis\": {\"title\": {\"text\": \"\\u20ac/MWh\"}}},\n",
       "                        {\"responsive\": true}\n",
       "                    ).then(function(){\n",
       "                            \n",
       "var gd = document.getElementById('d105cae6-bae9-48bb-a6e8-4da03cee511d');\n",
       "var x = new MutationObserver(function (mutations, observer) {{\n",
       "        var display = window.getComputedStyle(gd).display;\n",
       "        if (!display || display === 'none') {{\n",
       "            console.log([gd, 'removed!']);\n",
       "            Plotly.purge(gd);\n",
       "            observer.disconnect();\n",
       "        }}\n",
       "}});\n",
       "\n",
       "// Listen for the removal of the full notebook cells\n",
       "var notebookContainer = gd.closest('#notebook-container');\n",
       "if (notebookContainer) {{\n",
       "    x.observe(notebookContainer, {childList: true});\n",
       "}}\n",
       "\n",
       "// Listen for the clearing of the current output cell\n",
       "var outputEl = gd.closest('.output');\n",
       "if (outputEl) {{\n",
       "    x.observe(outputEl, {childList: true});\n",
       "}}\n",
       "\n",
       "                        })\n",
       "                };\n",
       "                });\n",
       "            </script>\n",
       "        </div>"
      ]
     },
     "metadata": {},
     "output_type": "display_data"
    }
   ],
   "source": [
    "import plotly.graph_objects as go\n",
    "import numpy as np\n",
    "\n",
    "fig = go.Figure()\n",
    "\n",
    "fig.add_trace(go.Scatter(\n",
    "    x=df.index, y=df['cap_price_Solar'],\n",
    "    mode='lines',\n",
    "    name = 'Solar Cap Price'\n",
    "    \n",
    "))\n",
    "\n",
    "fig.add_trace(go.Scatter(\n",
    "    x=df.index, y=df['cap_price_Wind Onshore'],\n",
    "    mode='lines',\n",
    "        name = 'Onshore Wind Cap Price'\n",
    "\n",
    "    \n",
    "))\n",
    "\n",
    "fig.add_trace(go.Scatter(\n",
    "    x=df.index, y=df['DayAheadPrices_ES'],\n",
    "    mode='lines',\n",
    "    name = 'Baseload'\n",
    "\n",
    "    \n",
    "))\n",
    "\n",
    "# Set options common to all traces with fig.update_traces\n",
    "#fig.update_traces(mode='markers', marker_line_width=2, marker_size=6)\n",
    "fig.update_layout(title='Capture Price Evolution - ES')\n",
    "\n",
    "fig.update_yaxes(title='€/MWh')\n",
    "\n",
    "\n",
    "fig.show()"
   ]
  }
 ],
 "metadata": {
  "kernelspec": {
   "display_name": "Python 3",
   "language": "python",
   "name": "python3"
  },
  "language_info": {
   "codemirror_mode": {
    "name": "ipython",
    "version": 3
   },
   "file_extension": ".py",
   "mimetype": "text/x-python",
   "name": "python",
   "nbconvert_exporter": "python",
   "pygments_lexer": "ipython3",
   "version": "3.8.3"
  }
 },
 "nbformat": 4,
 "nbformat_minor": 4
}
