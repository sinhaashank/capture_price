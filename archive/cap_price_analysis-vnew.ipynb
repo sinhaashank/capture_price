{
 "cells": [
  {
   "cell_type": "code",
   "execution_count": 1,
   "metadata": {},
   "outputs": [],
   "source": [
    "import pandas as pd\n",
    "import numpy as np\n",
    "import os\n",
    "import sys\n",
    "import plotly\n",
    "import plotly.graph_objects as go\n",
    "    \n",
    "%load_ext autoreload\n",
    "%autoreload 1\n",
    "\n",
    "pd.set_option(\"display.max_columns\",201)\n",
    "pd.set_option(\"display.max_colwidth\",101)\n",
    "pd.set_option(\"display.max_rows\",500)"
   ]
  },
  {
   "cell_type": "code",
   "execution_count": 2,
   "metadata": {},
   "outputs": [
    {
     "name": "stderr",
     "output_type": "stream",
     "text": [
      "c:\\users\\a0743104\\appdata\\local\\programs\\python\\python38-32\\lib\\site-packages\\arctic\\_util.py:6: FutureWarning: pandas.util.testing is deprecated. Use the functions in the public API at pandas.testing instead.\n",
      "  from pandas.util.testing import assert_frame_equal\n",
      "c:\\users\\a0743104\\appdata\\local\\programs\\python\\python38-32\\lib\\site-packages\\arctic\\store\\_pandas_ndarray_store.py:6: FutureWarning: The Panel class is removed from pandas. Accessing it from the top-level namespace will also be removed in the next version\n",
      "  from pandas import DataFrame, Series, Panel\n",
      "Library created, but couldn't enable sharding: no such command: 'enablesharding'. This is OK if you're not 'admin'\n"
     ]
    }
   ],
   "source": [
    "from arctic import Arctic, CHUNK_STORE\n",
    "\n",
    "conn = Arctic('10.213.120.5')\n",
    "conn.initialize_library('entsoe', lib_type=CHUNK_STORE)\n",
    "conn.list_libraries()\n",
    "lib = conn['entsoe']"
   ]
  },
  {
   "cell_type": "code",
   "execution_count": 3,
   "metadata": {},
   "outputs": [
    {
     "name": "stdout",
     "output_type": "stream",
     "text": [
      "Enter the perimeter (DE/FR/BE/ES/IT/PL) : ES\n"
     ]
    }
   ],
   "source": [
    "# Input country\n",
    "\n",
    "country = input(\"Enter the perimeter (DE/FR/BE/ES/IT/PL) : \")"
   ]
  },
  {
   "cell_type": "code",
   "execution_count": 4,
   "metadata": {},
   "outputs": [],
   "source": [
    "# function to change timezone from UTC to local time\n",
    "\n",
    "def changing_timezone(x):\n",
    "    ts = x.index.tz_localize('utc').tz_convert('Europe/Brussels')\n",
    "    y = x.set_index(ts)\n",
    "    return y.tz_localize(None)"
   ]
  },
  {
   "cell_type": "code",
   "execution_count": 5,
   "metadata": {},
   "outputs": [],
   "source": [
    "# define dates\n",
    "\n",
    "from datetime import datetime\n",
    "from datetime import timedelta\n",
    "from datetime import date\n",
    "\n",
    "ref_date = datetime(year=2016, month=1, day=1).date()\n",
    "start_date = ref_date + timedelta(days = - 1)\n",
    "\n",
    "end_date = date.today().replace(day=1)"
   ]
  },
  {
   "cell_type": "code",
   "execution_count": 6,
   "metadata": {},
   "outputs": [],
   "source": [
    "# Read Spot price\n",
    "\n",
    "var = 'DayAheadPrices_12.1.D'\n",
    "\n",
    "prefix = var + '_' + country \n",
    "\n",
    "df_DA_price = lib.read(prefix, chunk_range=pd.date_range(start_date, end_date))\n",
    "\n",
    "# changing timezones \n",
    "df_DA_price = changing_timezone(df_DA_price)"
   ]
  },
  {
   "cell_type": "code",
   "execution_count": 7,
   "metadata": {},
   "outputs": [],
   "source": [
    "# Read installed capacity data\n",
    "\n",
    "var =  'ActualTotalLoad_6.1.A'\n",
    "\n",
    "prefix = var + '_' + country \n",
    "\n",
    "df_demand = lib.read(prefix, chunk_range=pd.date_range(start_date, end_date))\n",
    "\n",
    "# convert 15 min data to hourly data\n",
    "df_demand = df_demand.resample('H').mean()\n",
    "\n",
    "# changing timezones \n",
    "df_demand = changing_timezone(df_demand)"
   ]
  },
  {
   "cell_type": "code",
   "execution_count": 8,
   "metadata": {},
   "outputs": [],
   "source": [
    "# Read power generation data\n",
    "\n",
    "var = 'AggregatedGenerationPerType_16.1.B_C'\n",
    "prefix = var + '_' + country \n",
    "\n",
    "df_gen = lib.read(prefix,chunk_range=pd.date_range(start_date, end_date))\n",
    "\n",
    "# convert 15 min data to hourly data\n",
    "df_gen = df_gen.resample('H').mean()\n",
    "\n",
    "# changing timezones \n",
    "df_gen = changing_timezone(df_gen)"
   ]
  },
  {
   "cell_type": "code",
   "execution_count": 9,
   "metadata": {},
   "outputs": [],
   "source": [
    "df_DA_price =df_DA_price[~df_DA_price.index.duplicated()]\n",
    "#df_RES_gen =df_RES_gen[~df_RES_gen.index.duplicated()]\n",
    "df_demand =df_demand[~df_demand.index.duplicated()]\n",
    "df_gen =df_gen[~df_gen.index.duplicated()]"
   ]
  },
  {
   "cell_type": "code",
   "execution_count": 10,
   "metadata": {},
   "outputs": [],
   "source": [
    "# merging data to a single dataframe\n",
    "\n",
    "var = [df_DA_price,df_demand,df_gen]     \n",
    "df_merge = pd.DataFrame(columns=[])\n",
    "\n",
    "for j in var:\n",
    "    df_merge = pd.merge(df_merge, j,how='outer',right_index=True, left_index=True)\n",
    "    \n",
    "var = 'ActualGenerationOutput'\n",
    "res_tech = ['Solar','Wind Onshore', 'Wind Offshore']\n",
    "\n",
    "prefix = var + ' ' + country \n",
    "\n",
    "for i in res_tech:\n",
    "    try:\n",
    "        df_merge['t_cap'+' '+i] = df_merge['DayAheadPrices_'+country]*df_merge[prefix+' '+i]\n",
    "    except KeyError:\n",
    "        pass"
   ]
  },
  {
   "cell_type": "code",
   "execution_count": 11,
   "metadata": {},
   "outputs": [],
   "source": [
    "df_data= df_merge.iloc[(df_merge.index.year >=2016)&(df_merge.index.date<end_date)]"
   ]
  },
  {
   "cell_type": "code",
   "execution_count": 12,
   "metadata": {},
   "outputs": [],
   "source": [
    "df_data = df_data[df_data.columns.drop(list(df_data.filter(regex='Consumption')))]"
   ]
  },
  {
   "cell_type": "markdown",
   "metadata": {},
   "source": [
    "# Features not used"
   ]
  },
  {
   "cell_type": "code",
   "execution_count": null,
   "metadata": {},
   "outputs": [],
   "source": [
    "try: \n",
    "    df_data['Residual_Load'] = df_data['ActualTotalLoad' + '_'+ country] - df_data[prefix + ' ' + 'Solar'] \n",
    "    - df_data[prefix + ' ' + 'Wind Onshore'] - df_data[prefix + ' ' + 'Wind Offshore']\n",
    "    df_data['RES_penetration'] =((df_data[prefix + ' ' + 'Solar'] + df_data[prefix + ' ' + 'Wind Onshore'] +\n",
    "                                df_data[prefix + ' ' + 'Wind Offshore'])/df_data['ActualTotalLoad'+'_'+country])*100\n",
    "    df_data['Wind_penetration'] =((df_data[prefix + ' ' + 'Wind Onshore'] + df_data[prefix + ' ' + 'Wind Offshore'])/df_data['ActualTotalLoad'+'_'+country])*100\n",
    "except KeyError:\n",
    "    df_data['Residual_Load'] = df_data['ActualTotalLoad' + '_'+ country] - df_data[prefix + ' ' + 'Solar'] \n",
    "    - df_data[prefix + ' ' + 'Wind Onshore']\n",
    "    df_data['RES_penetration'] =((df_data[prefix + ' ' + 'Solar'] + df_data[prefix + ' ' + 'Wind Onshore'])/df_data['ActualTotalLoad'+'_'+country])*100\n",
    "    df_data['Wind_penetration'] =(df_data[prefix + ' ' + 'Wind Onshore']/df_data['ActualTotalLoad'+'_'+country])*100\n",
    "\n",
    "df_data['Solar_penetration'] =(df_data[prefix + ' ' + 'Solar']/df_data['ActualTotalLoad'+'_'+country])*100"
   ]
  },
  {
   "cell_type": "code",
   "execution_count": 13,
   "metadata": {},
   "outputs": [],
   "source": [
    "import calendar\n",
    "\n",
    "df_d = df_data.groupby(df_data.index.date).mean()\n",
    "\n",
    "df_m = df_data.groupby([(df_data.index.year),(df_data.index.month)]).mean()\n",
    "\n",
    "df_y = df_data.groupby(df_data.index.year).mean()\n",
    "\n",
    "for j in res_tech:\n",
    "    try:\n",
    "        df_d['cap_price' +'_'+j] = df_d['t_cap' +' '+ j]/df_d[prefix + ' ' + j]\n",
    "        df_m['cap_price' +'_'+j] = df_m['t_cap' +' '+ j]/df_m[prefix + ' ' + j]\n",
    "        df_y['cap_price' +'_'+j] = df_y['t_cap' +' '+ j]/df_y[prefix + ' ' + j]\n",
    "    except KeyError:\n",
    "        pass\n",
    "    \n",
    "#df_d['quarter'] = 'Q'+pd.to_datetime(df_d.index).quarter.astype(str)\n",
    "#df_m['quarter'] = 'Q'+pd.to_datetime(df_m.index.get_level_values(1), format='%m').quarter.astype(str)\n",
    "\n",
    "#Use calendar library for abbreviations and order\n",
    "dd=dict((enumerate(calendar.month_abbr)))\n",
    "\n",
    "#rename level zero of multiindex\n",
    "\n",
    "df_m = df_m.rename(index=dd,level=1)\n",
    "\n",
    "#Create calendar month data type with order for sorting\n",
    "cal_dtype = pd.CategoricalDtype(list(calendar.month_abbr), ordered=True)\n",
    "\n",
    "#Change the dtype of the level zero index\n",
    "df_m.index = df_m.index.set_levels(df_m.index.levels[1].astype(cal_dtype), level=1)"
   ]
  },
  {
   "cell_type": "code",
   "execution_count": 14,
   "metadata": {},
   "outputs": [],
   "source": [
    "for i in res_tech:\n",
    "    try:\n",
    "        df_m['cap_ratio_'+i] = (df_m['cap_price_'+i]/df_m['DayAheadPrices_'+country])\n",
    "        df_d['cap_ratio_'+i] = (df_d['cap_price_'+i]/df_d['DayAheadPrices_'+country])\n",
    "        df_y['cap_ratio_'+i] = (df_y['cap_price_'+i]/df_y['DayAheadPrices_'+country])\n",
    "    except KeyError:\n",
    "        pass"
   ]
  },
  {
   "cell_type": "code",
   "execution_count": 29,
   "metadata": {},
   "outputs": [],
   "source": [
    "pickle_dir = 'hist_data/'\n",
    "\n",
    "df_d.to_pickle(os.path.join(pickle_dir,'cap_price_daily_'+country+'.p'))\n",
    "df_m.to_pickle(os.path.join(pickle_dir,'cap_price_monthly_'+country+'.p'))\n",
    "df_y.to_pickle(os.path.join(pickle_dir,'cap_price_yearly_'+country+'.p'))"
   ]
  },
  {
   "cell_type": "code",
   "execution_count": 15,
   "metadata": {},
   "outputs": [],
   "source": [
    "csv_dir = 'hist_data_csv/'\n",
    "\n",
    "df_d.to_csv(os.path.join(csv_dir,'cap_price_daily_new_' + country+ '.csv'))\n",
    "df_m.to_csv(os.path.join(csv_dir,'cap_price_monthly_new_' + country+ '.csv'))\n",
    "df_y.to_csv(os.path.join(csv_dir,'cap_price_yearly_new_' + country+ '.csv'))"
   ]
  },
  {
   "cell_type": "code",
   "execution_count": null,
   "metadata": {},
   "outputs": [],
   "source": []
  }
 ],
 "metadata": {
  "kernelspec": {
   "display_name": "Python 3",
   "language": "python",
   "name": "python3"
  },
  "language_info": {
   "codemirror_mode": {
    "name": "ipython",
    "version": 3
   },
   "file_extension": ".py",
   "mimetype": "text/x-python",
   "name": "python",
   "nbconvert_exporter": "python",
   "pygments_lexer": "ipython3",
   "version": "3.8.3"
  }
 },
 "nbformat": 4,
 "nbformat_minor": 4
}
